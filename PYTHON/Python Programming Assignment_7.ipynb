{
 "cells": [
  {
   "cell_type": "markdown",
   "id": "35297a20",
   "metadata": {},
   "source": [
    "## Programming Basic Assignment 7"
   ]
  },
  {
   "cell_type": "markdown",
   "id": "27349114",
   "metadata": {},
   "source": [
    "### 1. Write a Python Program to find sum of array?"
   ]
  },
  {
   "cell_type": "markdown",
   "id": "171a980d",
   "metadata": {},
   "source": [
    "### 2. Write a Python Program to find largest element in an array?\n"
   ]
  },
  {
   "cell_type": "markdown",
   "id": "21613246",
   "metadata": {},
   "source": [
    "### 3. Write a Python Program for array rotation?"
   ]
  },
  {
   "cell_type": "markdown",
   "id": "3e52d939",
   "metadata": {},
   "source": [
    "### 4. Write a Python Program to Split the array and add the first part to the end?"
   ]
  },
  {
   "cell_type": "markdown",
   "id": "aa375779",
   "metadata": {},
   "source": [
    "### 5. Write a Python Program to check if given array is Monotonic?"
   ]
  },
  {
   "cell_type": "markdown",
   "id": "e8b53d88",
   "metadata": {},
   "source": [
    "# ANSWERS <font color=\"green\" style=\"float:right\"> Aamir Mohiuddin </font>\n",
    "---"
   ]
  },
  {
   "cell_type": "markdown",
   "id": "3bd74ade",
   "metadata": {},
   "source": [
    "### 1. Python Program to Find Sum of Array."
   ]
  },
  {
   "cell_type": "code",
   "execution_count": 3,
   "id": "a93035ca",
   "metadata": {},
   "outputs": [],
   "source": [
    "import array as arr"
   ]
  },
  {
   "cell_type": "code",
   "execution_count": 4,
   "id": "6ae6e7e5",
   "metadata": {},
   "outputs": [
    {
     "name": "stdout",
     "output_type": "stream",
     "text": [
      "The sum of array('i', [1, 2, 3, 4, 5, 6]) is : 21\n"
     ]
    }
   ],
   "source": [
    "my_arr = arr.array('i', [1,2,3,4,5,6])\n",
    "\n",
    "def sum_array(ar):\n",
    "    sum = 0\n",
    "    for element in ar:\n",
    "        sum += element\n",
    "    return sum\n",
    "\n",
    "print(f\"The sum of {my_arr} is :\", sum_array(my_arr))"
   ]
  },
  {
   "cell_type": "markdown",
   "id": "a73da1ea",
   "metadata": {},
   "source": [
    "### 2.  Find the largest element in an Array\n",
    "\n",
    "**1. Using max() function:**"
   ]
  },
  {
   "cell_type": "code",
   "execution_count": 6,
   "id": "0e7bdfd9",
   "metadata": {},
   "outputs": [
    {
     "name": "stdout",
     "output_type": "stream",
     "text": [
      "The largest element in array('i', [1, 2, 3, 4, 5, 6]) is : 6\n"
     ]
    }
   ],
   "source": [
    "# we can use max function to find the largest element in an array as:\n",
    "larg_ele = max(my_arr)\n",
    "print(f\"The largest element in {my_arr} is :\", larg_ele)"
   ]
  },
  {
   "cell_type": "markdown",
   "id": "ef25c8b1",
   "metadata": {},
   "source": [
    "**2. Using loop:**"
   ]
  },
  {
   "cell_type": "code",
   "execution_count": 8,
   "id": "2ca7db8a",
   "metadata": {},
   "outputs": [
    {
     "name": "stdout",
     "output_type": "stream",
     "text": [
      "The largest element in array('i', [1, 2, 3, 4, 5, 6]) is : 6\n"
     ]
    }
   ],
   "source": [
    "def find_max(ar):\n",
    "    max = ar[0]\n",
    "    for i in range(1,len(ar)):\n",
    "        if ar[i] > max:\n",
    "            max = ar[i]\n",
    "    return max\n",
    "\n",
    "print(f\"The largest element in {my_arr} is :\", find_max(my_arr))"
   ]
  },
  {
   "cell_type": "markdown",
   "id": "c6b71de4",
   "metadata": {},
   "source": [
    "### 3. Python Program for Array Rotation.\n",
    "\n",
    "* **LEFT Rotation**\n",
    "* **RIGHT Rotation**"
   ]
  },
  {
   "cell_type": "code",
   "execution_count": 9,
   "id": "7989258b",
   "metadata": {},
   "outputs": [
    {
     "name": "stdout",
     "output_type": "stream",
     "text": [
      "Enter choice:\n",
      " 1. Left Rotation \n",
      " 2. Right Rotation \n",
      "1\n",
      "Enter How many Right Rotations: 2\n",
      "Array Before rotation:  array('i', [10, 20, 30, 40, 50])\n",
      "Array after 2 left rotations :\t array('i', [30, 40, 50, 10, 20])\n"
     ]
    }
   ],
   "source": [
    "# static integer array\n",
    "test_arr = arr.array('i', [10,20,30,40,50])\n",
    "\n",
    "# left rotation\n",
    "def left_arr_rotation(ar, shift):\n",
    "    size = len(ar)\n",
    "    if shift == 0:\n",
    "        return ar\n",
    "    else:\n",
    "        for i in range(shift):\n",
    "            temp = ar[0]\n",
    "            for j in range(1,size):\n",
    "                ar[j-1] = ar[j]\n",
    "            ar[size-1] = temp\n",
    "        return ar\n",
    "\n",
    "# right rotation  \n",
    "def right_arr_rotation(ar, shift):\n",
    "    size = len(ar)\n",
    "    if shift == 0:\n",
    "        return ar\n",
    "    else:\n",
    "        for i in range(shift):\n",
    "            temp = ar[size-1]\n",
    "            for j in range(size-2,-1,-1):\n",
    "                ar[j+1] = ar[j]\n",
    "            ar[0] = temp\n",
    "        return ar\n",
    "\n",
    "choice = int(input(\"Enter choice:\\n 1. Left Rotation \\n 2. Right Rotation \\n\"))\n",
    "n = int(input(\"Enter How many Right Rotations: \"))\n",
    "print(\"Array Before rotation: \", test_arr)\n",
    "\n",
    "if choice == 1:\n",
    "    print(f\"Array after {n} left rotations :\\t\", left_arr_rotation(test_arr, n))\n",
    "elif choice == 2:\n",
    "    print(f\"Array after {n} right rotations :\\t\", right_arr_rotation(test_arr, n))\n",
    "else:\n",
    "    print(\"Invalid Choice\")"
   ]
  },
  {
   "cell_type": "markdown",
   "id": "202850ee",
   "metadata": {},
   "source": [
    "### 4. Python Program to Split the Array and Add the first part to the end."
   ]
  },
  {
   "cell_type": "code",
   "execution_count": 22,
   "id": "6643fc91",
   "metadata": {},
   "outputs": [
    {
     "name": "stdout",
     "output_type": "stream",
     "text": [
      "Array Before Split:  [5, 4, 7, 3, 2, 1]\n",
      "Enter position where you want to split: 2\n",
      "The Array after splitting at 2 index \t: [7, 3, 2, 1, 5, 4]\n"
     ]
    }
   ],
   "source": [
    "myArray = [5,4,7,3,2,1]\n",
    "\n",
    "def splitArray(ar, pos):\n",
    "    n = len(ar)\n",
    "    b = ar[:pos]\n",
    "    return (ar[pos::] + b[::])\n",
    "\n",
    "print(\"Array Before Split: \", myArray)\n",
    "pos = int(input(\"Enter position where you want to split: \"))\n",
    "\n",
    "print(f\"The Array after splitting at {pos} index \\t:\", splitArray(myArray, pos))"
   ]
  },
  {
   "cell_type": "markdown",
   "id": "8ebabcb1",
   "metadata": {},
   "source": [
    "### 5. Progarm to check If Array is Monotonic."
   ]
  },
  {
   "cell_type": "code",
   "execution_count": 29,
   "id": "e954a6b4",
   "metadata": {},
   "outputs": [
    {
     "name": "stdout",
     "output_type": "stream",
     "text": [
      "Yes, given Array is MONOTONIC - 'Monotonic Decreasing'\n",
      "Yes, given Array is MONOTONIC - 'Monotonic Increasing'\n",
      "No, not Monotonic\n"
     ]
    }
   ],
   "source": [
    "myArr1 = [1,2,3,4,5,6]\n",
    "myArr2 = [6,5,4,2,1]\n",
    "myArr3 = [3,2,6,1,4]\n",
    "\n",
    "def checkMonotonic(ar):\n",
    "    if all(ar[i] >= ar[i+1] for i in range(len(ar)-1)):\n",
    "        print(\"Yes, given Array is MONOTONIC - 'Monotonic Increasing'\")\n",
    "    elif all(ar[i] <= ar[i+1] for i in range(len(ar)-1)):\n",
    "        print(\"Yes, given Array is MONOTONIC - 'Monotonic Decreasing'\")\n",
    "    else:\n",
    "        print(\"No, not Monotonic\")\n",
    "        \n",
    "checkMonotonic(myArr1)        \n",
    "checkMonotonic(myArr2)\n",
    "checkMonotonic(myArr3)"
   ]
  },
  {
   "cell_type": "markdown",
   "id": "20d00d0b",
   "metadata": {},
   "source": [
    "# THANK YOU\n",
    "---"
   ]
  }
 ],
 "metadata": {
  "kernelspec": {
   "display_name": "Python 3 (ipykernel)",
   "language": "python",
   "name": "python3"
  },
  "language_info": {
   "codemirror_mode": {
    "name": "ipython",
    "version": 3
   },
   "file_extension": ".py",
   "mimetype": "text/x-python",
   "name": "python",
   "nbconvert_exporter": "python",
   "pygments_lexer": "ipython3",
   "version": "3.9.7"
  }
 },
 "nbformat": 4,
 "nbformat_minor": 5
}
