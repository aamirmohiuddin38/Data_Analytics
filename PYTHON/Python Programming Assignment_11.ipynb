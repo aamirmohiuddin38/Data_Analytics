{
 "cells": [
  {
   "cell_type": "markdown",
   "id": "53c7e882",
   "metadata": {},
   "source": [
    "# Python Basic Programming Assignment 11\n",
    "--------------------"
   ]
  },
  {
   "cell_type": "markdown",
   "id": "051da140",
   "metadata": {},
   "source": [
    "### 1. Write a Python program to find words which are greater than given length k?"
   ]
  },
  {
   "cell_type": "markdown",
   "id": "26719cbd",
   "metadata": {},
   "source": [
    "### 2. Write a Python program for removing i-th character from a string?"
   ]
  },
  {
   "cell_type": "markdown",
   "id": "51ae6b0f",
   "metadata": {},
   "source": [
    "### 3. Write a Python program to split and join a string?"
   ]
  },
  {
   "cell_type": "markdown",
   "id": "59079fe1",
   "metadata": {},
   "source": [
    "### 4. Write a Python to check if a given string is binary string or not?"
   ]
  },
  {
   "cell_type": "markdown",
   "id": "4d6cf11a",
   "metadata": {},
   "source": [
    "### 5. Write a Python program to find uncommon words from two Strings?"
   ]
  },
  {
   "cell_type": "markdown",
   "id": "e2b24677",
   "metadata": {},
   "source": [
    "### 6. Write a Python to find all duplicate characters in string?"
   ]
  },
  {
   "cell_type": "markdown",
   "id": "1a6af7e4",
   "metadata": {},
   "source": [
    "### 7. Write a Python Program to check if a string contains any special character?"
   ]
  },
  {
   "cell_type": "markdown",
   "id": "e3625195",
   "metadata": {},
   "source": [
    "# ANSWERS <font color=\"green\" style=\"float:right\"> Aamir Mohiuddin </font>\n",
    "---"
   ]
  },
  {
   "cell_type": "markdown",
   "id": "5640035a",
   "metadata": {},
   "source": [
    "### 1. Python Program to find words which are greater than given length k."
   ]
  },
  {
   "cell_type": "code",
   "execution_count": 5,
   "id": "5ad80992",
   "metadata": {},
   "outputs": [
    {
     "name": "stdout",
     "output_type": "stream",
     "text": [
      "Enter the length k: 8\n",
      "Words greater then 8 :  ['Education', 'Data Analytics']\n"
     ]
    }
   ],
   "source": [
    "words = ['Education','Python', 'Data Analytics','R','Data']\n",
    "\n",
    "def wordGreaterThan_K(words, k):\n",
    "    result = []\n",
    "    for word in words:\n",
    "        if len(word) > k:\n",
    "            result.append(word)\n",
    "    return result\n",
    "\n",
    "k = int(input(\"Enter the length k: \"))\n",
    "print(f\"Words greater then {k} : \", wordGreaterThan_K(words, k))"
   ]
  },
  {
   "cell_type": "markdown",
   "id": "d79b2520",
   "metadata": {},
   "source": [
    "### 2.  Python Program for removing $ i^{th} $ character from string.\n",
    "\n",
    "**a. Using replace():**"
   ]
  },
  {
   "cell_type": "code",
   "execution_count": 6,
   "id": "db7a0c3b",
   "metadata": {},
   "outputs": [
    {
     "name": "stdout",
     "output_type": "stream",
     "text": [
      "Original String :  Data Analytics\n",
      "Enter the position of character to be removed: 4\n",
      "String after removing 4th character:  DataAnalytics\n"
     ]
    }
   ],
   "source": [
    "myString = \"Data Analytics\"\n",
    "\n",
    "def remove_ith_char(string, i):\n",
    "    if i > len(string):\n",
    "        return f\"String has only {len(string)} length\"\n",
    "    new_str = string.replace(string[i],'')\n",
    "    return new_str\n",
    "\n",
    "print(\"Original String : \", myString)\n",
    "i = int(input(\"Enter the position of character to be removed: \"))\n",
    "print(f\"String after removing {i}th character: \", remove_ith_char(myString, i))"
   ]
  },
  {
   "cell_type": "markdown",
   "id": "2e0c5d9f",
   "metadata": {},
   "source": [
    "Drawback: *The major drawback of this approach is that it fails in case there as duplicates in a string that match the char at pos. i. replace() replaces all the occurrences of a particular character and hence would replace all the occurrences of all the characters at pos i. We can still sometimes use this function if the replacing character occurs for 1st time in the string.* "
   ]
  },
  {
   "cell_type": "code",
   "execution_count": 7,
   "id": "c1681d00",
   "metadata": {},
   "outputs": [
    {
     "data": {
      "text/plain": [
       "'Dt Anlytics'"
      ]
     },
     "execution_count": 7,
     "metadata": {},
     "output_type": "execute_result"
    }
   ],
   "source": [
    "remove_ith_char(myString,3)"
   ]
  },
  {
   "cell_type": "code",
   "execution_count": 8,
   "id": "31e75009",
   "metadata": {},
   "outputs": [
    {
     "data": {
      "text/plain": [
       "'Dta Analytics'"
      ]
     },
     "execution_count": 8,
     "metadata": {},
     "output_type": "execute_result"
    }
   ],
   "source": [
    "myString.replace(myString[3],'',1) # remove the first occurence"
   ]
  },
  {
   "cell_type": "markdown",
   "id": "3021ba97",
   "metadata": {},
   "source": [
    "**b. Using Slicing and Concatenation:**"
   ]
  },
  {
   "cell_type": "code",
   "execution_count": 11,
   "id": "c11cb79e",
   "metadata": {},
   "outputs": [
    {
     "name": "stdout",
     "output_type": "stream",
     "text": [
      "Original String :  Data Analytics\n",
      "Enter the position of character to be removed: 3\n",
      "String after removing 3th character:  Dat Analytics\n"
     ]
    }
   ],
   "source": [
    "myString = \"Data Analytics\"\n",
    "\n",
    "def remove_ith_char(string, i):\n",
    "    if i > len(string):\n",
    "        return f\"String has only {len(string)} length\"\n",
    "    new_str = string[:i] + string[i+1:]\n",
    "    return new_str\n",
    "\n",
    "print(\"Original String : \", myString)\n",
    "i = int(input(\"Enter the position of character to be removed: \"))\n",
    "print(f\"String after removing {i}th character: \", remove_ith_char(myString, i))"
   ]
  },
  {
   "cell_type": "markdown",
   "id": "ee6e4a4d",
   "metadata": {},
   "source": [
    "### 3. Python Program to Split and Join String."
   ]
  },
  {
   "cell_type": "code",
   "execution_count": 15,
   "id": "4144709e",
   "metadata": {},
   "outputs": [
    {
     "name": "stdout",
     "output_type": "stream",
     "text": [
      "Enter the String: Hello! I am Learning Python\n",
      "Entered String: \t Hello! I am Learning Python\n",
      "Splitted String: \t ['Hello!', 'I', 'am', 'Learning', 'Python']\n",
      "Joined After Splitting: \t Hello! I am Learning Python\n"
     ]
    }
   ],
   "source": [
    "myStr = input(\"Enter the String: \")\n",
    "splitted_Str = myStr.split()\n",
    "joined_str = ' '.join(splitted_Str)\n",
    "\n",
    "print(\"Entered String: \\t\",myStr)\n",
    "print(\"Splitted String: \\t\", splitted_Str)\n",
    "print(\"Joined After Splitting: \\t\", joined_str)"
   ]
  },
  {
   "cell_type": "markdown",
   "id": "621f69ca",
   "metadata": {},
   "source": [
    "### 4. Python Program to check if a given string is binary or not.\n",
    "\n",
    "**a. Using loop:**"
   ]
  },
  {
   "cell_type": "code",
   "execution_count": 24,
   "id": "dce35679",
   "metadata": {},
   "outputs": [
    {
     "name": "stdout",
     "output_type": "stream",
     "text": [
      "Enter String to check if its binary or not: 010101011111\n",
      "Yes String is Binary\n"
     ]
    }
   ],
   "source": [
    "myString = input(\"Enter String to check if its binary or not: \")\n",
    "binary_chars = '01'\n",
    "flag = True\n",
    "\n",
    "for char in myString:\n",
    "    if char not in binary_chars:\n",
    "        flag = False\n",
    "\n",
    "if flag:\n",
    "    print(\"Yes String is Binary\")\n",
    "else:\n",
    "    print(\"No, Not Binary\")"
   ]
  },
  {
   "cell_type": "markdown",
   "id": "530450d5",
   "metadata": {},
   "source": [
    "**b. Using set:**"
   ]
  },
  {
   "cell_type": "code",
   "execution_count": 34,
   "id": "10857925",
   "metadata": {},
   "outputs": [
    {
     "name": "stdout",
     "output_type": "stream",
     "text": [
      "Enter String to check if its binary or not: 01012a\n",
      "No, Not Binary\n"
     ]
    }
   ],
   "source": [
    "myString = input(\"Enter String to check if its binary or not: \")\n",
    "\n",
    "str_set = set(myString)\n",
    "bin_set = {'0','1'}\n",
    "\n",
    "# check if sets are equal\n",
    "if str_set == bin_set or str_set == {'1'} or str_set == {'0'}:\n",
    "    print(\"Yes, String is Binary\")\n",
    "else:\n",
    "    print(\"No, Not Binary\")"
   ]
  },
  {
   "cell_type": "markdown",
   "id": "05d34470",
   "metadata": {},
   "source": [
    "### 5. Python Program to find Uncommon Words from two Strings."
   ]
  },
  {
   "cell_type": "code",
   "execution_count": 58,
   "id": "b36e8a66",
   "metadata": {},
   "outputs": [
    {
     "name": "stdout",
     "output_type": "stream",
     "text": [
      "Uncommon Words :  {'Science', 'Data', 'Python'}\n"
     ]
    }
   ],
   "source": [
    "str1 = \"I am Learning Python\"\n",
    "str2 = \"I am Learning Data Science\"\n",
    "\n",
    "str1_set = set(str1.split())\n",
    "str2_set = set(str2.split())\n",
    "\n",
    "diff1 = str1_set.difference(str2_set)\n",
    "diff2 = str2_set.difference(str1_set)\n",
    "\n",
    "uncommon_words = diff1.union(diff2)\n",
    "print(\"Uncommon Words : \", uncommon_words)"
   ]
  },
  {
   "cell_type": "markdown",
   "id": "bd8187e9",
   "metadata": {},
   "source": [
    "### 6. Python Program to find all duplicate characters in a String.\n",
    "**a. Using dictionary:**"
   ]
  },
  {
   "cell_type": "code",
   "execution_count": 63,
   "id": "be032cf6",
   "metadata": {},
   "outputs": [
    {
     "name": "stdout",
     "output_type": "stream",
     "text": [
      "e appears 4 times\n",
      "t appears 5 times\n",
      "s appears 3 times\n",
      "i appears 4 times\n",
      "n appears 3 times\n",
      "d appears 2 times\n",
      "h appears 2 times\n",
      "c appears 3 times\n",
      "a appears 4 times\n",
      "r appears 3 times\n"
     ]
    }
   ],
   "source": [
    "myString = \"Let's find the duplicate characters in a string\"\n",
    "\n",
    "def find_dup_chars(str):\n",
    "    counts = {}\n",
    "    \n",
    "    for char in str:\n",
    "        if char not in counts:\n",
    "            counts[char] = 1\n",
    "        else:\n",
    "            counts[char] += 1\n",
    "            \n",
    "    for char, count in counts.items():\n",
    "        if count > 1 and char != ' ':\n",
    "            print(f\"{char} appears {count} times\")\n",
    "            \n",
    "find_dup_chars(myString)"
   ]
  },
  {
   "cell_type": "markdown",
   "id": "c6236f68",
   "metadata": {},
   "source": [
    "**b. Using list and count():**"
   ]
  },
  {
   "cell_type": "code",
   "execution_count": 67,
   "id": "8e899b14",
   "metadata": {},
   "outputs": [
    {
     "name": "stdout",
     "output_type": "stream",
     "text": [
      "['e', 't', 's', 'i', 'n', 'd', 'h', 'c', 'a', 'r']\n"
     ]
    }
   ],
   "source": [
    "myString = \"Let's find the duplicate characters in a string\"\n",
    "duplicates = []\n",
    "\n",
    "for char in myString:\n",
    "    if myString.count(char) > 1:\n",
    "        if char not in duplicates and char != ' ':\n",
    "            duplicates.append(char)\n",
    "        \n",
    "print(duplicates)"
   ]
  },
  {
   "cell_type": "markdown",
   "id": "7b5ddd27",
   "metadata": {},
   "source": [
    "### 7. Python Program to check if a String contains any Special Character."
   ]
  },
  {
   "cell_type": "code",
   "execution_count": 76,
   "id": "23c95989",
   "metadata": {},
   "outputs": [
    {
     "name": "stdout",
     "output_type": "stream",
     "text": [
      "Yes, String has special chars\n"
     ]
    }
   ],
   "source": [
    "myString = \"Hello! My name is $Amie\"\n",
    "\n",
    "def has_special_char(str):\n",
    "    special_chars = {'!', '@', '#', '$', '%', '^', '&', '*', '(', ')', '-', '+', '=', '{', '}', '[', ']', '|', '\\\\', ':', ';', '\"', '\\'', '<', '>', ',', '.', '/', '?'}\n",
    "    \n",
    "    for char in str:\n",
    "        if char in special_chars:\n",
    "            return True\n",
    "    return False\n",
    "\n",
    "if has_special_char(myString):\n",
    "    print('Yes, String has special chars')\n",
    "else:\n",
    "    print('No, not any special char present')"
   ]
  },
  {
   "cell_type": "markdown",
   "id": "a3394a19",
   "metadata": {},
   "source": [
    "# THANK YOU\n",
    "---"
   ]
  }
 ],
 "metadata": {
  "kernelspec": {
   "display_name": "Python 3 (ipykernel)",
   "language": "python",
   "name": "python3"
  },
  "language_info": {
   "codemirror_mode": {
    "name": "ipython",
    "version": 3
   },
   "file_extension": ".py",
   "mimetype": "text/x-python",
   "name": "python",
   "nbconvert_exporter": "python",
   "pygments_lexer": "ipython3",
   "version": "3.9.7"
  }
 },
 "nbformat": 4,
 "nbformat_minor": 5
}
