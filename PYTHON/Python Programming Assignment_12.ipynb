{
 "cells": [
  {
   "cell_type": "markdown",
   "id": "b7231b20",
   "metadata": {},
   "source": [
    "# Python Basic Programming Assignment 12\n",
    "-------------"
   ]
  },
  {
   "cell_type": "markdown",
   "id": "d2ec324d",
   "metadata": {},
   "source": [
    "### 1. Write a Python program to Extract Unique values dictionary values?"
   ]
  },
  {
   "cell_type": "markdown",
   "id": "203bcbc3",
   "metadata": {},
   "source": [
    "### 2. Write a Python program to find the sum of all items in a dictionary?"
   ]
  },
  {
   "cell_type": "markdown",
   "id": "edfbc682",
   "metadata": {},
   "source": [
    "### 3. Write a Python program to Merging two Dictionaries?"
   ]
  },
  {
   "cell_type": "markdown",
   "id": "62eaf687",
   "metadata": {},
   "source": [
    "### 4. Write a Python program to convert key-values list to flat dictionary?"
   ]
  },
  {
   "cell_type": "markdown",
   "id": "fcc5015f",
   "metadata": {},
   "source": [
    "### 5. Write a Python program to insertion at the beginning in OrderedDict?"
   ]
  },
  {
   "cell_type": "markdown",
   "id": "5978c9ab",
   "metadata": {},
   "source": [
    "### 6. Write a Python program to check order of character in string using OrderedDict()?"
   ]
  },
  {
   "cell_type": "markdown",
   "id": "f330da77",
   "metadata": {},
   "source": [
    "### 7. Write a Python program to sort Python Dictionaries by Key or Value?"
   ]
  },
  {
   "cell_type": "markdown",
   "id": "f8098f5b",
   "metadata": {},
   "source": [
    "# ANSWERS <font color=\"green\" style=\"float:right\"> Aamir Mohiuddin </font>\n",
    "---"
   ]
  },
  {
   "cell_type": "markdown",
   "id": "c6e5999a",
   "metadata": {},
   "source": [
    "### 1. Python Program to Extract Unique dictionary values.\n",
    "\n",
    "**a. Using set():**"
   ]
  },
  {
   "cell_type": "code",
   "execution_count": 6,
   "id": "483c9cdd",
   "metadata": {},
   "outputs": [
    {
     "name": "stdout",
     "output_type": "stream",
     "text": [
      "Unique Dictionary Values :  {'Python', 'Statistics', 'Data Science'}\n"
     ]
    }
   ],
   "source": [
    "mydict = {1: 'Python', 2 : 'Data Science', 3 : 'Python', 4 : 'Data Science', 5 : 'Statistics'}\n",
    "\n",
    "valuesOfDict = mydict.values()\n",
    "valuesSet = set(valuesOfDict) #converting values list to set to exclude duplicates\n",
    "\n",
    "print(\"Unique Dictionary Values : \", valuesSet)"
   ]
  },
  {
   "cell_type": "markdown",
   "id": "a4b5cf69",
   "metadata": {},
   "source": [
    "**b. Using Set comprehension:**"
   ]
  },
  {
   "cell_type": "code",
   "execution_count": 11,
   "id": "2a4aeb89",
   "metadata": {},
   "outputs": [
    {
     "name": "stdout",
     "output_type": "stream",
     "text": [
      "Unique values:  {'Python', 'Statistics', 'Data Science'}\n"
     ]
    }
   ],
   "source": [
    "uniqueValues = {val for val in mydict.values()}\n",
    "print(\"Unique values: \", uniqueValues)"
   ]
  },
  {
   "cell_type": "markdown",
   "id": "545ec698",
   "metadata": {},
   "source": [
    "### 2. Python Program to find sum of all items in a dictionary."
   ]
  },
  {
   "cell_type": "code",
   "execution_count": 14,
   "id": "9efb9d7a",
   "metadata": {},
   "outputs": [
    {
     "name": "stdout",
     "output_type": "stream",
     "text": [
      "Sum is :  10\n"
     ]
    }
   ],
   "source": [
    "dict_1 = {'a':1, 'b':2, 'c':3,'d':4,'e':'str'}\n",
    "result = 0\n",
    "\n",
    "for val in dict_1.values():\n",
    "    if isinstance(val, (int,float)):\n",
    "        result += val\n",
    "    \n",
    "print(\"Sum is : \", result)"
   ]
  },
  {
   "cell_type": "markdown",
   "id": "0109e5bd",
   "metadata": {},
   "source": [
    "**Using sum()**"
   ]
  },
  {
   "cell_type": "code",
   "execution_count": 17,
   "id": "9c7cc2cc",
   "metadata": {},
   "outputs": [
    {
     "name": "stdout",
     "output_type": "stream",
     "text": [
      "Sum is:  10\n"
     ]
    }
   ],
   "source": [
    "dict_1 = {'a':1, 'b':2, 'c':3,'d':4}\n",
    "result = sum(dict_1.values())\n",
    "\n",
    "print(\"Sum is: \", result)"
   ]
  },
  {
   "cell_type": "markdown",
   "id": "980a4868",
   "metadata": {},
   "source": [
    "### 3. Python Program to Merging two dictionaries."
   ]
  },
  {
   "cell_type": "markdown",
   "id": "0401783d",
   "metadata": {},
   "source": [
    "**a. Using update():**"
   ]
  },
  {
   "cell_type": "code",
   "execution_count": 19,
   "id": "239cbf4f",
   "metadata": {},
   "outputs": [
    {
     "name": "stdout",
     "output_type": "stream",
     "text": [
      "Merged Dictionary:  {1: 'a', 2: 'c', 3: 'd'}\n"
     ]
    }
   ],
   "source": [
    "dict1 = {1:'a',2:'b'}\n",
    "dict2 = {2:'c', 3:'d'}\n",
    "\n",
    "# merge dict2 into dict 1\n",
    "dict1.update(dict2) # will overwrite items with same key\n",
    "print('Merged Dictionary: ', dict1)"
   ]
  },
  {
   "cell_type": "markdown",
   "id": "17d84371",
   "metadata": {},
   "source": [
    "**b. Using | operator:**"
   ]
  },
  {
   "cell_type": "code",
   "execution_count": 21,
   "id": "2da0ba29",
   "metadata": {},
   "outputs": [
    {
     "name": "stdout",
     "output_type": "stream",
     "text": [
      "Dict1:  {1: 'a', 2: 'b'}\n",
      "Dict2:  {2: 'c', 3: 'd'}\n",
      "MergedDict:  {1: 'a', 2: 'c', 3: 'd'}\n"
     ]
    }
   ],
   "source": [
    "dict1 = {1:'a',2:'b'}\n",
    "dict2 = {2:'c', 3:'d'}\n",
    "\n",
    "dict3 = dict1 | dict2\n",
    "print(\"Dict1: \", dict1)\n",
    "print(\"Dict2: \", dict2)\n",
    "print(\"MergedDict: \",dict3)"
   ]
  },
  {
   "cell_type": "markdown",
   "id": "6b1a3e51",
   "metadata": {},
   "source": [
    "**c. Using ** Operator:**"
   ]
  },
  {
   "cell_type": "code",
   "execution_count": 24,
   "id": "f98d41c3",
   "metadata": {},
   "outputs": [
    {
     "name": "stdout",
     "output_type": "stream",
     "text": [
      "Merged Dict. {1: 'a', 2: 'c', 3: 'd'}\n"
     ]
    }
   ],
   "source": [
    "dict1 = {1:'a',2:'b'}\n",
    "dict2 = {2:'c', 3:'d'}\n",
    "\n",
    "mergeDict = ({**dict1, **dict2})\n",
    "print(\"Merged Dict.\", mergeDict)"
   ]
  },
  {
   "cell_type": "markdown",
   "id": "8a6a219b",
   "metadata": {},
   "source": [
    "### 4. Python Program to convert key-values list to flat dictionary."
   ]
  },
  {
   "cell_type": "code",
   "execution_count": 26,
   "id": "59bd225b",
   "metadata": {},
   "outputs": [
    {
     "name": "stdout",
     "output_type": "stream",
     "text": [
      "Key Value List:  [(1, 'a'), (2, 'b'), (3, 'c')]\n",
      "Dictionary:  {1: 'a', 2: 'b', 3: 'c'}\n"
     ]
    }
   ],
   "source": [
    "# first Method\n",
    "key_values = [(1,'a'),(2,'b'),(3,'c')]\n",
    "toDict = {}\n",
    "\n",
    "for key,value in key_values:\n",
    "    toDict.update({key:value})\n",
    "    \n",
    "print(\"Key Value List: \", key_values)\n",
    "print(\"Dictionary: \", toDict)"
   ]
  },
  {
   "cell_type": "code",
   "execution_count": 27,
   "id": "52646c20",
   "metadata": {},
   "outputs": [
    {
     "name": "stdout",
     "output_type": "stream",
     "text": [
      "Dictionary:  {1: 'a', 2: 'b', 3: 'c'}\n"
     ]
    }
   ],
   "source": [
    "## Second Method\n",
    "flatDict = {key:value for key,value in key_values}\n",
    "print(\"Dictionary: \", flatDict)"
   ]
  },
  {
   "cell_type": "markdown",
   "id": "61a7f007",
   "metadata": {},
   "source": [
    "*Converting common separated string to dictionary*"
   ]
  },
  {
   "cell_type": "code",
   "execution_count": 32,
   "id": "60f58f46",
   "metadata": {},
   "outputs": [
    {
     "name": "stdout",
     "output_type": "stream",
     "text": [
      "Dictionary from String:  {'Name': 'Aamir', 'Course': 'Data Analytics', 'From': 'Ineuron'}\n"
     ]
    }
   ],
   "source": [
    "cs_str = \"Name = Aamir, Course = Data Analytics, From = Ineuron\"\n",
    "\n",
    "dictStr = dict(item.split(' = ') for item in cs_str.split(', '))\n",
    "print(\"Dictionary from String: \", dictStr)"
   ]
  },
  {
   "cell_type": "markdown",
   "id": "8f270bf3",
   "metadata": {},
   "source": [
    "### 5. Python Program for Insertion at the beginning of OrderedDict.\n",
    "**a. Using move_to_end and setting last = False**"
   ]
  },
  {
   "cell_type": "code",
   "execution_count": 40,
   "id": "4720eb39",
   "metadata": {},
   "outputs": [],
   "source": [
    "from collections import OrderedDict"
   ]
  },
  {
   "cell_type": "code",
   "execution_count": 44,
   "id": "e5787c03",
   "metadata": {},
   "outputs": [
    {
     "data": {
      "text/plain": [
       "OrderedDict([('a', 'analysis'), ('b', 'business'), ('c', 'customer')])"
      ]
     },
     "execution_count": 44,
     "metadata": {},
     "output_type": "execute_result"
    }
   ],
   "source": [
    "myDict = OrderedDict()\n",
    "\n",
    "myDict['a'] = 'analysis'\n",
    "myDict['b'] = 'business'\n",
    "myDict['c'] = 'customer'\n",
    "\n",
    "myDict"
   ]
  },
  {
   "cell_type": "code",
   "execution_count": 47,
   "id": "fbd68158",
   "metadata": {},
   "outputs": [
    {
     "data": {
      "text/plain": [
       "OrderedDict([('p', 'python'),\n",
       "             ('a', 'analysis'),\n",
       "             ('b', 'business'),\n",
       "             ('c', 'customer')])"
      ]
     },
     "execution_count": 47,
     "metadata": {},
     "output_type": "execute_result"
    }
   ],
   "source": [
    "#insert new item at beginning\n",
    "myDict['p'] = 'python'\n",
    "\n",
    "myDict.move_to_end('p', last = False)\n",
    "\n",
    "myDict"
   ]
  },
  {
   "cell_type": "markdown",
   "id": "9a429b5d",
   "metadata": {},
   "source": [
    "### 6. Python program to check order of character in String using OrderedDict()."
   ]
  },
  {
   "cell_type": "code",
   "execution_count": 66,
   "id": "7ee3b2bd",
   "metadata": {},
   "outputs": [
    {
     "name": "stdout",
     "output_type": "stream",
     "text": [
      "Valid\n"
     ]
    }
   ],
   "source": [
    "def checkOrder(string, pattern):\n",
    "    i = 0\n",
    "    \n",
    "    dict_x = OrderedDict.fromkeys(string)\n",
    "    for k, v in dict_x.items():\n",
    "        if k == pattern[i]:\n",
    "            i += 1\n",
    "        \n",
    "        if i == len(pattern):\n",
    "            return print('Valid')\n",
    "    \n",
    "    return print('Invalid')\n",
    "\n",
    "checkOrder('Amir', 'mi')"
   ]
  },
  {
   "cell_type": "markdown",
   "id": "c9dc2918",
   "metadata": {},
   "source": [
    "*The Above program assumes there won't be any duplicate character in pattern or string*"
   ]
  },
  {
   "cell_type": "markdown",
   "id": "ee4f1361",
   "metadata": {},
   "source": [
    "### 7. Python Program to Sort Dictionaries by Key or Value."
   ]
  },
  {
   "cell_type": "code",
   "execution_count": 70,
   "id": "96a5a104",
   "metadata": {},
   "outputs": [],
   "source": [
    "myDict = {'a':1, 'c': 2, 'b':3}"
   ]
  },
  {
   "cell_type": "markdown",
   "id": "1673767b",
   "metadata": {},
   "source": [
    "**a. sorting by keys - sorted():**"
   ]
  },
  {
   "cell_type": "code",
   "execution_count": 73,
   "id": "84a2463c",
   "metadata": {},
   "outputs": [
    {
     "name": "stdout",
     "output_type": "stream",
     "text": [
      "Sorted Dict. Based on Keys:  {'a': 1, 'b': 3, 'c': 2}\n"
     ]
    }
   ],
   "source": [
    "sorted_myDict = {k : v for k,v in sorted(myDict.items())}\n",
    "print(\"Sorted Dict. Based on Keys: \", sorted_myDict)"
   ]
  },
  {
   "cell_type": "code",
   "execution_count": 74,
   "id": "c2316a7b",
   "metadata": {},
   "outputs": [
    {
     "data": {
      "text/plain": [
       "dict"
      ]
     },
     "execution_count": 74,
     "metadata": {},
     "output_type": "execute_result"
    }
   ],
   "source": [
    "type(sorted_myDict)"
   ]
  },
  {
   "cell_type": "markdown",
   "id": "ec5ab452",
   "metadata": {},
   "source": [
    "**b. sorted by values:**"
   ]
  },
  {
   "cell_type": "code",
   "execution_count": 69,
   "id": "734cc187",
   "metadata": {},
   "outputs": [],
   "source": [
    "myDict = {'c':2,'a':1, 'b':3}"
   ]
  },
  {
   "cell_type": "code",
   "execution_count": 78,
   "id": "1aaf1e39",
   "metadata": {},
   "outputs": [
    {
     "data": {
      "text/plain": [
       "{'a': 1, 'c': 2, 'b': 3}"
      ]
     },
     "execution_count": 78,
     "metadata": {},
     "output_type": "execute_result"
    }
   ],
   "source": [
    "sorted_myDictVal = {k : v for k, v in sorted(myDict.items(), key = lambda x:x[1])}\n",
    "sorted_myDictVal"
   ]
  },
  {
   "cell_type": "markdown",
   "id": "9f5e13e3",
   "metadata": {},
   "source": [
    " <a href=\"https://www.freecodecamp.org/news/sort-dictionary-by-value-in-python/\"> Article to help above program </a>"
   ]
  },
  {
   "cell_type": "markdown",
   "id": "9823e126",
   "metadata": {},
   "source": [
    "# THANK YOU\n",
    "---"
   ]
  }
 ],
 "metadata": {
  "kernelspec": {
   "display_name": "Python 3 (ipykernel)",
   "language": "python",
   "name": "python3"
  },
  "language_info": {
   "codemirror_mode": {
    "name": "ipython",
    "version": 3
   },
   "file_extension": ".py",
   "mimetype": "text/x-python",
   "name": "python",
   "nbconvert_exporter": "python",
   "pygments_lexer": "ipython3",
   "version": "3.9.7"
  }
 },
 "nbformat": 4,
 "nbformat_minor": 5
}
