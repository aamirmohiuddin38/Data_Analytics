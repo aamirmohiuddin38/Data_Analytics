{
 "cells": [
  {
   "cell_type": "markdown",
   "id": "20cb4340",
   "metadata": {},
   "source": [
    "## Programming Assignment_4\n",
    "----------------"
   ]
  },
  {
   "cell_type": "markdown",
   "id": "4fdb6695",
   "metadata": {},
   "source": [
    "### 1. Write a Python Program to Find the Factorial of a Number?"
   ]
  },
  {
   "cell_type": "markdown",
   "id": "e6beef62",
   "metadata": {},
   "source": [
    "### 2. Write a Python Program to Display the multiplication Table?"
   ]
  },
  {
   "cell_type": "markdown",
   "id": "7de7eba5",
   "metadata": {},
   "source": [
    "### 3. Write a Python Program to Print the Fibonacci sequence?\n"
   ]
  },
  {
   "cell_type": "markdown",
   "id": "0446442e",
   "metadata": {},
   "source": [
    "### 4. Write a Python Program to Check Armstrong Number?"
   ]
  },
  {
   "cell_type": "markdown",
   "id": "a6f9adfe",
   "metadata": {},
   "source": [
    "### 5. Write a Python Program to Find Armstrong Number in an Interval?"
   ]
  },
  {
   "cell_type": "markdown",
   "id": "157cad60",
   "metadata": {},
   "source": [
    "### 6. Write a Python Program to Find the Sum of Natural Numbers?"
   ]
  },
  {
   "cell_type": "markdown",
   "id": "a4db5eb0",
   "metadata": {},
   "source": [
    "# ANSWERS  <font color=\"green\" style=\"float:right\" > Aamir Mohiuddin </font>"
   ]
  },
  {
   "cell_type": "markdown",
   "id": "a94922f4",
   "metadata": {},
   "source": [
    "### 1. Program to Find the Factorial of a Number."
   ]
  },
  {
   "cell_type": "code",
   "execution_count": 7,
   "id": "d9288f66",
   "metadata": {},
   "outputs": [
    {
     "name": "stdout",
     "output_type": "stream",
     "text": [
      "Enter the Number:4\n",
      "4 ! =  24\n"
     ]
    }
   ],
   "source": [
    "num = int(input(\"Enter the Number:\"))\n",
    "fact = 1\n",
    "\n",
    "for i in range(1, num+1):\n",
    "    fact = fact * i\n",
    "    \n",
    "print(num,\"! = \", fact)"
   ]
  },
  {
   "cell_type": "markdown",
   "id": "17f2992f",
   "metadata": {},
   "source": [
    "### 2. Program to Display Multiplication Table."
   ]
  },
  {
   "cell_type": "code",
   "execution_count": 10,
   "id": "d71430e5",
   "metadata": {},
   "outputs": [
    {
     "name": "stdout",
     "output_type": "stream",
     "text": [
      "Enter the number of which you want to display mult. table: 9\n",
      "9 * 1 = 9\n",
      "9 * 2 = 18\n",
      "9 * 3 = 27\n",
      "9 * 4 = 36\n",
      "9 * 5 = 45\n",
      "9 * 6 = 54\n",
      "9 * 7 = 63\n",
      "9 * 8 = 72\n",
      "9 * 9 = 81\n",
      "9 * 10 = 90\n"
     ]
    }
   ],
   "source": [
    "num = int(input(\"Enter the number of which you want to display mult. table: \"))\n",
    "\n",
    "for i in range(1, 11):\n",
    "    print(num, \"*\" ,i, \"=\" , num * i)"
   ]
  },
  {
   "cell_type": "markdown",
   "id": "4ef4def2",
   "metadata": {},
   "source": [
    "### 3. Program to print Fibonacci Series.\n",
    "\n",
    "* a. Number of terms."
   ]
  },
  {
   "cell_type": "code",
   "execution_count": 40,
   "id": "56812407",
   "metadata": {},
   "outputs": [
    {
     "name": "stdout",
     "output_type": "stream",
     "text": [
      "Enter no. of terms: 10\n",
      "Fibonacci Series:\n",
      "0\t1\t1\t2\t3\t5\t8\t13\t21\t34\t"
     ]
    }
   ],
   "source": [
    "terms = int(input(\"Enter no. of terms: \"))\n",
    "a,b = 0,1  ## first two terms\n",
    "count = 0  ## count of how many terms to print\n",
    "\n",
    "if terms <= 0:\n",
    "    print(\"Enter positive no. of terms.\")\n",
    "elif terms == 1:\n",
    "    print(\"Fibonacci Series: \", a)\n",
    "else:\n",
    "    print(\"Fibonacci Series:\")\n",
    "    while count < terms:\n",
    "        print(a, end=\"\\t\")\n",
    "        last_term = a + b\n",
    "        a = b\n",
    "        b = last_term\n",
    "        count += 1"
   ]
  },
  {
   "cell_type": "markdown",
   "id": "8991b5fe",
   "metadata": {},
   "source": [
    "**Second Method**\n",
    "* b. Upto some limit"
   ]
  },
  {
   "cell_type": "code",
   "execution_count": 55,
   "id": "87754c86",
   "metadata": {},
   "outputs": [
    {
     "name": "stdout",
     "output_type": "stream",
     "text": [
      "Enter the limit upto which you want your fibonacci Series: 21\n",
      "Fibanocci Series: \n",
      " 0 \t 1\t1\t2\t3\t5\t8\t13\t21\t"
     ]
    }
   ],
   "source": [
    "limit = int(input(\"Enter the limit upto which you want your fibonacci Series: \"))\n",
    "a = 0\n",
    "b = 1\n",
    "print (\"Fibanocci Series: \\n\", a, \"\\t\", b, end=\"\\t\")\n",
    "for i in range(limit):\n",
    "    c = a + b\n",
    "    ## check limit\n",
    "    if c <= limit:\n",
    "        print(c, end=\"\\t\")\n",
    "    ## update value\n",
    "    a = b\n",
    "    b = c\n",
    "    "
   ]
  },
  {
   "cell_type": "markdown",
   "id": "d7d73763",
   "metadata": {},
   "source": [
    "### 4. Program to check Armstrong Number."
   ]
  },
  {
   "cell_type": "code",
   "execution_count": 19,
   "id": "bc7959e9",
   "metadata": {},
   "outputs": [
    {
     "name": "stdout",
     "output_type": "stream",
     "text": [
      "Enter number to check if its Armstrong: 1634\n",
      "Armstrong Number\n"
     ]
    }
   ],
   "source": [
    "## check for n digt number\n",
    "num = int(input(\"Enter number to check if its Armstrong: \"))\n",
    "\n",
    "## convert entered number to string to find its length (power to be raised)\n",
    "n = len(str(num))\n",
    "\n",
    "temp = num\n",
    "sum = 0\n",
    "\n",
    "while temp > 0:\n",
    "    digit = temp % 10    # get the last digit\n",
    "    sum += pow(digit, n)  # raise nth power\n",
    "    temp //= 10       # update temp without last digit\n",
    "    \n",
    "if sum == num:\n",
    "    print(\"Armstrong Number\")\n",
    "else:\n",
    "    print(\"Not Armstrong\")"
   ]
  },
  {
   "cell_type": "markdown",
   "id": "a4c636d3",
   "metadata": {},
   "source": [
    "### 5. Program to Find Armstrong Number in an Interval."
   ]
  },
  {
   "cell_type": "code",
   "execution_count": 37,
   "id": "da36019b",
   "metadata": {},
   "outputs": [
    {
     "name": "stdout",
     "output_type": "stream",
     "text": [
      "Enter Lower Bound: 100\n",
      "Enter Upper Bound: 500\n",
      "153\t370\t371\t407\t"
     ]
    }
   ],
   "source": [
    "## check for n digt number\n",
    "lowerBound = int(input(\"Enter Lower Bound: \"))\n",
    "upperBound = int(input(\"Enter Upper Bound: \"))\n",
    "\n",
    "for num in range(lowerBound, upperBound+1):\n",
    "    n = len(str(num))\n",
    "    sum = 0\n",
    "    temp = num\n",
    "    \n",
    "    while temp > 0:\n",
    "        digit = temp % 10    # get the last digit\n",
    "        sum += pow(digit, n)  # raise nth power\n",
    "        temp //= 10       # update temp without last digit\n",
    "    if sum == num:\n",
    "        print(num, end= \"\\t\")"
   ]
  },
  {
   "cell_type": "markdown",
   "id": "e9b9cc2f",
   "metadata": {},
   "source": [
    "### 6. Program to Find Sum of Natural Numbers.\n",
    "\n",
    "1. **Using Formula:**\n",
    "Sum of first **n** natural numbers is given: $$ S_n = \\frac{n(n+1)}{2} $$"
   ]
  },
  {
   "cell_type": "code",
   "execution_count": 42,
   "id": "5c8d8304",
   "metadata": {},
   "outputs": [
    {
     "name": "stdout",
     "output_type": "stream",
     "text": [
      "Enter the Positive Number upto which you want some: 16\n",
      "Sum of first 16 numbers is:  136\n"
     ]
    }
   ],
   "source": [
    "## Sum of first n natural numbers\n",
    "num = int(input(\"Enter the Positive Number upto which you want some: \"))\n",
    "\n",
    "sum = (num * (num+1)) // 2\n",
    "\n",
    "print(\"Sum of first {0} numbers is: \".format(num) , sum)"
   ]
  },
  {
   "cell_type": "markdown",
   "id": "5bed55c0",
   "metadata": {},
   "source": [
    "2. **Using Loop**"
   ]
  },
  {
   "cell_type": "code",
   "execution_count": 46,
   "id": "526f21b9",
   "metadata": {},
   "outputs": [
    {
     "name": "stdout",
     "output_type": "stream",
     "text": [
      "Enter the Positive Number upto which you want some: 10\n",
      "Sum is : 55\n"
     ]
    }
   ],
   "source": [
    "num = int(input(\"Enter the Positive Number upto which you want some: \"))\n",
    "sum = 0\n",
    "\n",
    "while num > 0:\n",
    "    sum += num\n",
    "    num -= 1\n",
    "    \n",
    "print(\"Sum is :\", sum)"
   ]
  },
  {
   "cell_type": "markdown",
   "id": "79ed4762",
   "metadata": {},
   "source": [
    "# THANK YOU\n",
    "\n",
    "---"
   ]
  }
 ],
 "metadata": {
  "kernelspec": {
   "display_name": "Python 3 (ipykernel)",
   "language": "python",
   "name": "python3"
  },
  "language_info": {
   "codemirror_mode": {
    "name": "ipython",
    "version": 3
   },
   "file_extension": ".py",
   "mimetype": "text/x-python",
   "name": "python",
   "nbconvert_exporter": "python",
   "pygments_lexer": "ipython3",
   "version": "3.9.7"
  }
 },
 "nbformat": 4,
 "nbformat_minor": 5
}
