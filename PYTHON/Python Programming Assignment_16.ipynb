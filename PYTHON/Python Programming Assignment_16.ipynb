{
 "cells": [
  {
   "cell_type": "markdown",
   "id": "e304dc88",
   "metadata": {},
   "source": [
    "## Python Basic Programming Assignment 16\n",
    "---------------------"
   ]
  },
  {
   "cell_type": "markdown",
   "id": "d82eeee0",
   "metadata": {},
   "source": [
    "### 1. Write a function that stutters a word as if someone is struggling to read it. The first two letters are repeated twice with an ellipsis ... and space after each, and then the word is pronounced with a question mark ?. Examples stutter('incredible') ➞ 'in... in... incredible?' stutter('enthusiastic') ➞ 'en... en... enthusiastic?' stutter('outstanding') ➞ 'ou... ou... outstanding?'\n",
    "\n",
    "### Hint :- Assume all input is in lower case and at least two characters long."
   ]
  },
  {
   "cell_type": "markdown",
   "id": "47e1bd41",
   "metadata": {},
   "source": [
    "\n",
    "### 2. Create a function that takes an angle in radians and returns the corresponding angle in degrees rounded to one decimal place."
   ]
  },
  {
   "cell_type": "markdown",
   "id": "07cad4d9",
   "metadata": {},
   "source": [
    "\n",
    "### 3. In this challenge, establish if a given integer num is a Curzon number. If 1 plus 2 elevated to num is exactly divisible by 1 plus 2 multiplied by num, then num is a Curzon number. Given a non-negative integer num, implement a function that returns True if num is a Curzon number, or False otherwise."
   ]
  },
  {
   "cell_type": "markdown",
   "id": "cfad2cfc",
   "metadata": {},
   "source": [
    "\n",
    "### 4. Given the side length x find the area of a hexagon."
   ]
  },
  {
   "cell_type": "markdown",
   "id": "dbc79e02",
   "metadata": {},
   "source": [
    "\n",
    "### 5. Create a function that returns a base-2 (binary) representation of a base-10 (decimal) string number. To convert is simple: ((2) means base-2 and (10) means base-10) 010101001(2) = 1 + 8 + 32 + 128."
   ]
  },
  {
   "cell_type": "markdown",
   "id": "c93f226b",
   "metadata": {},
   "source": [
    "# ANSWERS <font color=\"green\" style=\"float:right\"> Aamir Mohiuddin </font>\n",
    "---"
   ]
  },
  {
   "cell_type": "markdown",
   "id": "13c334e0",
   "metadata": {},
   "source": [
    "### 1. Write a function that stutters a word as if someone is struggling to read it. The first two letters are repeated twice with an ellipsis ... and space after each, and then the word is pronounced with a question mark ?. Examples stutter('incredible') ➞ 'in... in... incredible?' stutter('enthusiastic') ➞ 'en... en... enthusiastic?' stutter('outstanding') ➞ 'ou... ou... outstanding?'\n",
    "\n",
    "### Hint :- Assume all input is in lower case and at least two characters long."
   ]
  },
  {
   "cell_type": "code",
   "execution_count": 1,
   "id": "ee34aa1f",
   "metadata": {},
   "outputs": [
    {
     "name": "stdout",
     "output_type": "stream",
     "text": [
      "in... in...incredible?\n",
      "en... en...enthusiastic?\n",
      "ou... ou...outstanding?\n"
     ]
    }
   ],
   "source": [
    "def stutter(word):\n",
    "    return \"{}... {}...{}?\".format(word[:2], word[:2], word)\n",
    "\n",
    "print(stutter('incredible'))\n",
    "print(stutter('enthusiastic'))\n",
    "print(stutter('outstanding'))"
   ]
  },
  {
   "cell_type": "markdown",
   "id": "19d43da6",
   "metadata": {},
   "source": [
    "### 2. Create a function that takes an angle in radians and returns the corresponding angle in degrees rounded to one decimal place.\n",
    "\n",
    "$$\n",
    " Degrees = \\frac{Radians * 180^{\\circ}}{\\pi}\n",
    "$$\n"
   ]
  },
  {
   "cell_type": "code",
   "execution_count": 2,
   "id": "adb7ebd5",
   "metadata": {},
   "outputs": [],
   "source": [
    "import math"
   ]
  },
  {
   "cell_type": "code",
   "execution_count": 7,
   "id": "1d734b69",
   "metadata": {},
   "outputs": [
    {
     "name": "stdout",
     "output_type": "stream",
     "text": [
      "180.0 deg\n",
      "90.0 deg\n"
     ]
    }
   ],
   "source": [
    "def to_degrees(angle_in_rad):\n",
    "    return round(angle_in_rad * 180 / math.pi, 1)\n",
    "\n",
    "print(to_degrees(math.pi),\"deg\")\n",
    "print(to_degrees(math.pi/2), \"deg\")"
   ]
  },
  {
   "cell_type": "markdown",
   "id": "41ae4ba7",
   "metadata": {},
   "source": [
    "### 3. In this challenge, establish if a given integer num is a Curzon number. If 1 plus 2 elevated to num is exactly divisible by 1 plus 2 multiplied by num, then num is a Curzon number. Given a non-negative integer num, implement a function that returns True if num is a Curzon number, or False otherwise.\n",
    "\n",
    "* A number **N** is said to be ***Curzon Nubmer*** if:\n",
    "\n",
    "$$ 1+2^{N}\\ is \\ divisible \\ by \\ 1+2N $$"
   ]
  },
  {
   "cell_type": "code",
   "execution_count": 8,
   "id": "78bdef33",
   "metadata": {},
   "outputs": [
    {
     "name": "stdout",
     "output_type": "stream",
     "text": [
      "True\n",
      "False\n"
     ]
    }
   ],
   "source": [
    "def is_curzon(n):\n",
    "    return (1+2**n) % (1+2*n) == 0\n",
    "\n",
    "print(is_curzon(5))\n",
    "print(is_curzon(7))"
   ]
  },
  {
   "cell_type": "markdown",
   "id": "4821a32c",
   "metadata": {},
   "source": [
    "### 4. Given the side length x find the area of a hexagon.\n",
    "$$\n",
    "Area of Hexagon, A = \\frac{3{\\sqrt{3}}}{2}x^{2}\n",
    "$$"
   ]
  },
  {
   "cell_type": "code",
   "execution_count": 10,
   "id": "76141314",
   "metadata": {},
   "outputs": [
    {
     "name": "stdout",
     "output_type": "stream",
     "text": [
      "Area of hexagon with x = 2:  10.392\n"
     ]
    }
   ],
   "source": [
    "import math\n",
    "\n",
    "def hexa_area(x):\n",
    "    return round((3 * math.sqrt(3) * x**2) / 2,3)\n",
    "\n",
    "print(\"Area of hexagon with x = 2: \", hexa_area(2))"
   ]
  },
  {
   "cell_type": "markdown",
   "id": "54f3f392",
   "metadata": {},
   "source": [
    "### 5. Create a function that returns a base-2 (binary) representation of a base-10 (decimal) string number. To convert is simple: ((2) means base-2 and (10) means base-10) 010101001(2) = 1 + 8 + 32 + 128."
   ]
  },
  {
   "cell_type": "code",
   "execution_count": 12,
   "id": "3c9f492e",
   "metadata": {},
   "outputs": [
    {
     "name": "stdout",
     "output_type": "stream",
     "text": [
      "10\n",
      "1010\n"
     ]
    }
   ],
   "source": [
    "def binarize(n):\n",
    "    result = \"\"\n",
    "    while n > 0:\n",
    "        result = str(n % 2) + result\n",
    "        n //= 2\n",
    "    return result\n",
    "\n",
    "print(binarize(2))\n",
    "print(binarize(10))"
   ]
  },
  {
   "cell_type": "markdown",
   "id": "ce9f2ec7",
   "metadata": {},
   "source": [
    "# THANK YOU\n",
    "---"
   ]
  }
 ],
 "metadata": {
  "kernelspec": {
   "display_name": "Python 3 (ipykernel)",
   "language": "python",
   "name": "python3"
  },
  "language_info": {
   "codemirror_mode": {
    "name": "ipython",
    "version": 3
   },
   "file_extension": ".py",
   "mimetype": "text/x-python",
   "name": "python",
   "nbconvert_exporter": "python",
   "pygments_lexer": "ipython3",
   "version": "3.9.7"
  }
 },
 "nbformat": 4,
 "nbformat_minor": 5
}
