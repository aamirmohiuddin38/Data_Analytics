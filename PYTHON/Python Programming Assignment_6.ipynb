{
 "cells": [
  {
   "cell_type": "markdown",
   "id": "84a41a9f",
   "metadata": {},
   "source": [
    "# Programming Basic Assignment 6"
   ]
  },
  {
   "cell_type": "markdown",
   "id": "a4b40558",
   "metadata": {},
   "source": [
    "### 1. Write a Python Program to Display Fibonacci Sequence Using Recursion?"
   ]
  },
  {
   "cell_type": "markdown",
   "id": "d7a57f60",
   "metadata": {},
   "source": [
    "### 2. Write a Python Program to Find Factorial of Number Using Recursion?"
   ]
  },
  {
   "cell_type": "markdown",
   "id": "0357b86f",
   "metadata": {},
   "source": [
    "### 3. Write a Python Program to calculate your Body Mass Index?"
   ]
  },
  {
   "cell_type": "markdown",
   "id": "96d344a4",
   "metadata": {},
   "source": [
    "### 4. Write a Python Program to calculate the natural logarithm of any number?"
   ]
  },
  {
   "cell_type": "markdown",
   "id": "11c0d92c",
   "metadata": {},
   "source": [
    "\n",
    "### 5. Write a Python Program for cube sum of first n natural numbers?\n"
   ]
  },
  {
   "cell_type": "markdown",
   "id": "b76a1723",
   "metadata": {},
   "source": [
    "# ANSWERS <font color=\"green\" style=\"float:right\"> Aamir Mohiuddin </font>"
   ]
  },
  {
   "cell_type": "markdown",
   "id": "6db171bc",
   "metadata": {},
   "source": [
    "### 1. Program to Display Fibonacci Sequence Using Recursion."
   ]
  },
  {
   "cell_type": "code",
   "execution_count": 4,
   "id": "ed25cea7",
   "metadata": {},
   "outputs": [
    {
     "name": "stdout",
     "output_type": "stream",
     "text": [
      "Enter the no. of terms: 5\n",
      "Fibonacci Series: \n",
      "0\t1\t1\t2\t3\t"
     ]
    }
   ],
   "source": [
    "def fibo_series(n):\n",
    "    if n <= 1:\n",
    "        return n\n",
    "    else:\n",
    "        return(fibo_series(n-1) + fibo_series(n-2))\n",
    "\n",
    "terms = int(input(\"Enter the no. of terms: \"))\n",
    "print(\"Fibonacci Series: \")\n",
    "for i in range(terms):\n",
    "    print(fibo_series(i), end = '\\t')"
   ]
  },
  {
   "cell_type": "markdown",
   "id": "78c54e20",
   "metadata": {},
   "source": [
    "### 2.  Program to Find Factorial Using Recursion."
   ]
  },
  {
   "cell_type": "code",
   "execution_count": 7,
   "id": "ac5c85ef",
   "metadata": {},
   "outputs": [
    {
     "name": "stdout",
     "output_type": "stream",
     "text": [
      "Enter the number: 4\n",
      "4! =  24\n"
     ]
    }
   ],
   "source": [
    "def fact(n):\n",
    "    if n == 0:\n",
    "        return 1\n",
    "    else:\n",
    "        return n * fact(n-1)\n",
    "\n",
    "num = int(input(\"Enter the number: \"))\n",
    "print(f\"{num}! = \", fact(num))"
   ]
  },
  {
   "cell_type": "markdown",
   "id": "1b373b61",
   "metadata": {},
   "source": [
    "### 3. Program to Calculate Body Mass Index.\n",
    "\n",
    "**Formula:**\n",
    "$$\n",
    " BMI = \\frac{Weight(kg)}{Height(m)^2}\n",
    "$$\n",
    "\n",
    "**Results:**\n",
    "<table>\n",
    "    <tr>\n",
    "        <th> BMI </th>\n",
    "        <th> Weight Index </th>\n",
    "    </tr>\n",
    "    <tr>\n",
    "        <td> Below 18.5 </td>\n",
    "        <td> Underweight </td>\n",
    "    </tr>\n",
    "    <tr>\n",
    "        <td> 18.5 – 24.9 </td>\n",
    "        <td> Healthy Weight </td>\n",
    "    </tr>\n",
    "    <tr>\n",
    "        <td> 25.0 – 29.9 </td>\n",
    "        <td> Overweight </td>\n",
    "    </tr>\n",
    "    <tr>\n",
    "        <td> 30.0 and Above </td>\n",
    "        <td> Obesityt </td>\n",
    "    </tr>\n",
    "</table>"
   ]
  },
  {
   "cell_type": "code",
   "execution_count": 2,
   "id": "d3dd2e48",
   "metadata": {},
   "outputs": [
    {
     "name": "stdout",
     "output_type": "stream",
     "text": [
      "Enter the Height in cm: 160\n",
      "Enter the Weight in Kg: 61\n",
      "The BMI is 23.83 which is HEALTHY WEIGHT\n"
     ]
    }
   ],
   "source": [
    "height = eval(input(\"Enter the Height in cm: \"))\n",
    "weight = eval(input(\"Enter the Weight in Kg: \"))\n",
    "\n",
    "bmi = round((weight) / (height/100)**2, 2)\n",
    "\n",
    "if bmi < 18.5:\n",
    "    print(f\"The BMI is {bmi} which is UNDERWEIGHT\")\n",
    "elif bmi >= 18.5 and bmi <= 24.9:\n",
    "    print(f\"The BMI is {bmi} which is HEALTHY WEIGHT\")\n",
    "elif bmi >= 25 and bmi <= 29.9:\n",
    "    print(f\"The BMI is {bmi} which is OVERWEIGHT\")\n",
    "else:\n",
    "    print(f\"The BMI is {bmi} which is OBESITY\")"
   ]
  },
  {
   "cell_type": "markdown",
   "id": "e446c31f",
   "metadata": {},
   "source": [
    "### 4. Program to Calculate Natural logarithm of any number."
   ]
  },
  {
   "cell_type": "code",
   "execution_count": 7,
   "id": "16e20bde",
   "metadata": {},
   "outputs": [
    {
     "name": "stdout",
     "output_type": "stream",
     "text": [
      "Enter Number.: 2\n",
      "ln(2) =  0.6931\n"
     ]
    }
   ],
   "source": [
    "import math\n",
    "num = int(input(\"Enter Number.: \"))\n",
    "base = math.e   # base of natural log\n",
    "\n",
    "ln_num = round(math.log(num, base),4)\n",
    "print(f\"ln({num}) = \",ln_num)"
   ]
  },
  {
   "cell_type": "markdown",
   "id": "2a0bd95c",
   "metadata": {},
   "source": [
    "### 5. Program to Find Sum of Cubes of First n natural numbers."
   ]
  },
  {
   "cell_type": "code",
   "execution_count": 3,
   "id": "ba4842be",
   "metadata": {},
   "outputs": [
    {
     "name": "stdout",
     "output_type": "stream",
     "text": [
      "Enter the no. of terms: 3\n",
      "The cube sum of first 3 is :  36\n"
     ]
    }
   ],
   "source": [
    "# Using recursion\n",
    "def recur_cube_sum(n):\n",
    "    if n <= 1:\n",
    "        return n\n",
    "    else:\n",
    "        return n**3 + recur_cube_sum(n-1)\n",
    "\n",
    "terms = int(input(\"Enter the no. of terms: \"))\n",
    "\n",
    "if terms < 0:\n",
    "    print(\"Enter Natural Num.\")\n",
    "else:\n",
    "    print(f\"The cube sum of first {terms} is : \", recur_cube_sum(terms))"
   ]
  },
  {
   "cell_type": "markdown",
   "id": "934c2938",
   "metadata": {},
   "source": [
    "# THANK YOU\n",
    "---"
   ]
  }
 ],
 "metadata": {
  "kernelspec": {
   "display_name": "Python 3 (ipykernel)",
   "language": "python",
   "name": "python3"
  },
  "language_info": {
   "codemirror_mode": {
    "name": "ipython",
    "version": 3
   },
   "file_extension": ".py",
   "mimetype": "text/x-python",
   "name": "python",
   "nbconvert_exporter": "python",
   "pygments_lexer": "ipython3",
   "version": "3.9.7"
  }
 },
 "nbformat": 4,
 "nbformat_minor": 5
}
