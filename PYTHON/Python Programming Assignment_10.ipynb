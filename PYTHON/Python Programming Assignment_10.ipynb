{
 "cells": [
  {
   "cell_type": "markdown",
   "id": "3dcb940f",
   "metadata": {},
   "source": [
    "## Python Basic Programming Assignment 10"
   ]
  },
  {
   "cell_type": "markdown",
   "id": "6720790a",
   "metadata": {},
   "source": [
    "### 1. Write a Python program to find sum of elements in list?"
   ]
  },
  {
   "cell_type": "markdown",
   "id": "fe1137c3",
   "metadata": {},
   "source": [
    "### 2. Write a Python program to  Multiply all numbers in the list?"
   ]
  },
  {
   "cell_type": "markdown",
   "id": "078681db",
   "metadata": {},
   "source": [
    "### 3. Write a Python program to find smallest number in a list?"
   ]
  },
  {
   "cell_type": "markdown",
   "id": "12b04397",
   "metadata": {},
   "source": [
    "### 4. Write a Python program to find largest number in a list?"
   ]
  },
  {
   "cell_type": "markdown",
   "id": "86442b51",
   "metadata": {},
   "source": [
    "### 5. Write a Python program to find second largest number in a list?"
   ]
  },
  {
   "cell_type": "markdown",
   "id": "10964d7d",
   "metadata": {},
   "source": [
    "### 6. Write a Python program to find N largest elements from a list?"
   ]
  },
  {
   "cell_type": "markdown",
   "id": "2f1a1e98",
   "metadata": {},
   "source": [
    "### 7. Write a Python program to print even numbers in a list?"
   ]
  },
  {
   "cell_type": "markdown",
   "id": "989bb324",
   "metadata": {},
   "source": [
    "### 8. Write a Python program to print odd numbers in a List?"
   ]
  },
  {
   "cell_type": "markdown",
   "id": "185b7b13",
   "metadata": {},
   "source": [
    "### 9. Write a Python program to Remove empty List from List?"
   ]
  },
  {
   "cell_type": "markdown",
   "id": "278cfacc",
   "metadata": {},
   "source": [
    "### 10. Write a Python program to Cloning or Copying a list?"
   ]
  },
  {
   "cell_type": "markdown",
   "id": "b359bedf",
   "metadata": {},
   "source": [
    "### 11. Write a Python program to Count occurrences of an element in a list?"
   ]
  },
  {
   "cell_type": "markdown",
   "id": "9fe7aad8",
   "metadata": {},
   "source": [
    "# ANSWERS <font color=\"green\" style=\"float:right\"> Aamir Mohiuddin </font>\n",
    "---"
   ]
  },
  {
   "cell_type": "markdown",
   "id": "137eb9b2",
   "metadata": {},
   "source": [
    "### 1. Program to find sum of elements in list."
   ]
  },
  {
   "cell_type": "code",
   "execution_count": 10,
   "id": "d6ec03d2",
   "metadata": {},
   "outputs": [
    {
     "name": "stdout",
     "output_type": "stream",
     "text": [
      "Sum of Elements:  21\n"
     ]
    }
   ],
   "source": [
    "myList = [1,2,3,4,5,6]\n",
    "result = 0\n",
    "\n",
    "for ele in myList:\n",
    "    result += ele\n",
    "    \n",
    "print(\"Sum of Elements: \", result)"
   ]
  },
  {
   "cell_type": "markdown",
   "id": "5037910f",
   "metadata": {},
   "source": [
    "**If elements are not of same type:** *isinstance()*"
   ]
  },
  {
   "cell_type": "code",
   "execution_count": 11,
   "id": "eddb69d5",
   "metadata": {},
   "outputs": [
    {
     "name": "stdout",
     "output_type": "stream",
     "text": [
      "Sum of Integer/Float elements in list :  10.5\n"
     ]
    }
   ],
   "source": [
    "myList = [1,2,3,'a','b',4.5]\n",
    "\n",
    "# to find sum of this list, we use isinstance() method as\n",
    "result = 0\n",
    "for ele in myList:\n",
    "    if isinstance(ele, (int, float)):\n",
    "        result += ele\n",
    "\n",
    "print(\"Sum of Integer/Float elements in list : \", result)"
   ]
  },
  {
   "cell_type": "markdown",
   "id": "9f2b4dad",
   "metadata": {},
   "source": [
    "### 2. Python Progarm to Multiply all the elements in a List."
   ]
  },
  {
   "cell_type": "code",
   "execution_count": 29,
   "id": "d70a3a7a",
   "metadata": {},
   "outputs": [
    {
     "name": "stdout",
     "output_type": "stream",
     "text": [
      "Product of Elements:  720\n"
     ]
    }
   ],
   "source": [
    "myList = [1,2,3,4,5,6]\n",
    "result = 1\n",
    "\n",
    "for ele in myList:\n",
    "    result *= ele\n",
    "    \n",
    "print(\"Product of Elements: \", result)"
   ]
  },
  {
   "cell_type": "code",
   "execution_count": 30,
   "id": "ceea1c4a",
   "metadata": {},
   "outputs": [
    {
     "name": "stdout",
     "output_type": "stream",
     "text": [
      "Product of Integer/Float elements in list :  27.0\n"
     ]
    }
   ],
   "source": [
    "myList = [1,2,3,'a','b',4.5]\n",
    "\n",
    "# to find sum of this list, we use isinstance() method as\n",
    "result = 1\n",
    "for ele in myList:\n",
    "    if isinstance(ele, (int, float)):\n",
    "        result *= ele\n",
    "\n",
    "print(\"Product of Integer/Float elements in list : \", result)"
   ]
  },
  {
   "cell_type": "markdown",
   "id": "7817615c",
   "metadata": {},
   "source": [
    "### 3. Python Program to Find smallest number in a List.\n",
    "\n",
    "**1. Using UserDefined Function:**"
   ]
  },
  {
   "cell_type": "code",
   "execution_count": 39,
   "id": "02d8ffe7",
   "metadata": {},
   "outputs": [
    {
     "name": "stdout",
     "output_type": "stream",
     "text": [
      "Smallest Element =  3.5\n"
     ]
    }
   ],
   "source": [
    "list_a = [10,20,50,80,30,3.5]\n",
    "\n",
    "def find_smallest(lst):\n",
    "    smallest = lst[0]\n",
    "    for i in range(1,len(lst)):\n",
    "        if lst[i] < smallest:\n",
    "            smallest = lst[i]\n",
    "    return smallest\n",
    "\n",
    "print(\"Smallest Element = \", find_smallest(list_a))"
   ]
  },
  {
   "cell_type": "markdown",
   "id": "5321653a",
   "metadata": {},
   "source": [
    "**2. Using Inbuilt min() :**"
   ]
  },
  {
   "cell_type": "code",
   "execution_count": 41,
   "id": "f6d78b74",
   "metadata": {},
   "outputs": [
    {
     "data": {
      "text/plain": [
       "3.5"
      ]
     },
     "execution_count": 41,
     "metadata": {},
     "output_type": "execute_result"
    }
   ],
   "source": [
    "min(list_a)"
   ]
  },
  {
   "cell_type": "markdown",
   "id": "60703c3f",
   "metadata": {},
   "source": [
    "**3. if list contains heterogenous elements:**"
   ]
  },
  {
   "cell_type": "code",
   "execution_count": 43,
   "id": "3a6b8788",
   "metadata": {},
   "outputs": [
    {
     "name": "stdout",
     "output_type": "stream",
     "text": [
      "Smallest Element =  3.5\n"
     ]
    }
   ],
   "source": [
    "list_a = [10,20,50,80,30,3.5,'x']\n",
    "\n",
    "def find_smallest(lst):\n",
    "    smallest = lst[0]\n",
    "    for i in range(1,len(lst)):\n",
    "        if isinstance(lst[i], (int,float)):\n",
    "            if lst[i] < smallest:\n",
    "                smallest = lst[i]\n",
    "    return smallest\n",
    "\n",
    "print(\"Smallest Element = \", find_smallest(list_a))"
   ]
  },
  {
   "cell_type": "markdown",
   "id": "1e1d2957",
   "metadata": {},
   "source": [
    "### 4.  Program to find Largest Element in List."
   ]
  },
  {
   "cell_type": "code",
   "execution_count": 44,
   "id": "ff377b12",
   "metadata": {},
   "outputs": [
    {
     "name": "stdout",
     "output_type": "stream",
     "text": [
      "Largest Element =  80\n"
     ]
    }
   ],
   "source": [
    "list_a = [10,20,50,80,30,3.5]\n",
    "\n",
    "def find_largest(lst):\n",
    "    smallest = lst[0]\n",
    "    for i in range(1,len(lst)):\n",
    "        if lst[i] > smallest:\n",
    "            smallest = lst[i]\n",
    "    return smallest\n",
    "\n",
    "print(\"Largest Element = \", find_largest(list_a))"
   ]
  },
  {
   "cell_type": "markdown",
   "id": "fbe99735",
   "metadata": {},
   "source": [
    "### 5. Python program to find Second Largest Element in a List.\n",
    "\n",
    "**a. Sorting and Reversing the List**"
   ]
  },
  {
   "cell_type": "code",
   "execution_count": 60,
   "id": "09311fbb",
   "metadata": {},
   "outputs": [
    {
     "name": "stdout",
     "output_type": "stream",
     "text": [
      "Second Largest Element =  42\n"
     ]
    }
   ],
   "source": [
    "list_b = [1,22,3,42,15,6,7,8,91,10]\n",
    "\n",
    "# define second largest function\n",
    "def sec_largest_ele(lst):\n",
    "    sorted_list = sorted(lst, reverse=True)\n",
    "    return sorted_list[1]\n",
    "\n",
    "print(\"Second Largest Element = \", sec_largest_ele(list_b))"
   ]
  },
  {
   "cell_type": "markdown",
   "id": "3fb30855",
   "metadata": {},
   "source": [
    "**b. Using Sorting Only then using Negative Index:**"
   ]
  },
  {
   "cell_type": "code",
   "execution_count": 62,
   "id": "c8bb2f4d",
   "metadata": {},
   "outputs": [
    {
     "name": "stdout",
     "output_type": "stream",
     "text": [
      "Second Largest Element =  42\n"
     ]
    }
   ],
   "source": [
    "list_b = [1,22,3,42,15,6,7,8,91,10]\n",
    "\n",
    "# define second largest function\n",
    "def sec_largest_ele(lst):\n",
    "    sorted_list = sorted(lst)\n",
    "    return sorted_list[-2]\n",
    "\n",
    "print(\"Second Largest Element = \", sec_largest_ele(list_b))"
   ]
  },
  {
   "cell_type": "markdown",
   "id": "b527e7c4",
   "metadata": {},
   "source": [
    "**c. Removing Max using max() and then returning max() again:**"
   ]
  },
  {
   "cell_type": "code",
   "execution_count": 64,
   "id": "629bd522",
   "metadata": {},
   "outputs": [
    {
     "name": "stdout",
     "output_type": "stream",
     "text": [
      "Second Largest Element =  42\n"
     ]
    }
   ],
   "source": [
    "list_b = [1,22,3,42,15,6,7,8,91,10]\n",
    "\n",
    "# define second largest function\n",
    "def sec_largest_ele(lst):\n",
    "    lst.remove(max(lst)) # remove first max\n",
    "    return max(lst)   # return second max\n",
    "\n",
    "print(\"Second Largest Element = \", sec_largest_ele(list_b))"
   ]
  },
  {
   "cell_type": "markdown",
   "id": "5dd5cd4b",
   "metadata": {},
   "source": [
    "### 6. Python Program to Find N largest elements from a List."
   ]
  },
  {
   "cell_type": "code",
   "execution_count": 69,
   "id": "f7ad11f1",
   "metadata": {},
   "outputs": [
    {
     "name": "stdout",
     "output_type": "stream",
     "text": [
      "How many largest elements: 4\n",
      "Second Largest Element =  [91, 42, 22, 15]\n"
     ]
    }
   ],
   "source": [
    "list_b = [1,22,3,42,15,6,7,8,91,10]\n",
    "\n",
    "# define second largest function\n",
    "def sec_largest_ele(lst, N):\n",
    "    if N > len(lst):\n",
    "        return \"Not this much elements presents\"\n",
    "    \n",
    "    sorted_list = sorted(lst, reverse=True)\n",
    "    return sorted_list[:N]\n",
    "\n",
    "N = int(input(\"How many largest elements: \"))\n",
    "print(\"Second Largest Element = \", sec_largest_ele(list_b,N))"
   ]
  },
  {
   "cell_type": "markdown",
   "id": "e9e0205a",
   "metadata": {},
   "source": [
    "### 7. Python Program to print Even Numbers in a List."
   ]
  },
  {
   "cell_type": "code",
   "execution_count": 71,
   "id": "92ae29cf",
   "metadata": {},
   "outputs": [
    {
     "name": "stdout",
     "output_type": "stream",
     "text": [
      "The Even elements is list [1, 2, 3, 4, 5, 6, 7, 8, 9] are:  [2, 4, 6, 8]\n"
     ]
    }
   ],
   "source": [
    "list_c = [1,2,3,4,5,6,7,8,9]\n",
    "\n",
    "def find_even(lst):\n",
    "    even_list = [ele for ele in lst if ele % 2 == 0]\n",
    "    return even_list\n",
    "\n",
    "print(f\"The Even elements is list {list_c} are: \", find_even(list_c))"
   ]
  },
  {
   "cell_type": "markdown",
   "id": "89593652",
   "metadata": {},
   "source": [
    "### 8. Python Program to print Odd Numbers in a List."
   ]
  },
  {
   "cell_type": "code",
   "execution_count": 72,
   "id": "93af6e13",
   "metadata": {},
   "outputs": [
    {
     "name": "stdout",
     "output_type": "stream",
     "text": [
      "The Odd elements is list [1, 2, 3, 4, 5, 6, 7, 8, 9] are:  [1, 3, 5, 7, 9]\n"
     ]
    }
   ],
   "source": [
    "list_c = [1,2,3,4,5,6,7,8,9]\n",
    "\n",
    "def find_odd(lst):\n",
    "    even_list = [ele for ele in lst if ele % 2 != 0]\n",
    "    return even_list\n",
    "\n",
    "print(f\"The Odd elements is list {list_c} are: \", find_odd(list_c))"
   ]
  },
  {
   "cell_type": "markdown",
   "id": "927e6ac3",
   "metadata": {},
   "source": [
    "### 9. Python Program to remove empty list from List."
   ]
  },
  {
   "cell_type": "code",
   "execution_count": 76,
   "id": "5e29df68",
   "metadata": {},
   "outputs": [
    {
     "name": "stdout",
     "output_type": "stream",
     "text": [
      "Filterd List:  [1, 2, [1, 2, 3], ['x', 'y'], ['amie', 'amir']]\n"
     ]
    }
   ],
   "source": [
    "list_with_empt = [1,2,[],[1,2,3],['x','y'],[],[], ['amie','amir'],[]]\n",
    "\n",
    "list_without_empt = [x for x in list_with_empt if x]\n",
    "print(\"Filterd List: \", list_without_empt)"
   ]
  },
  {
   "cell_type": "markdown",
   "id": "c7632128",
   "metadata": {},
   "source": [
    "**Using filter()**"
   ]
  },
  {
   "cell_type": "code",
   "execution_count": 85,
   "id": "23274888",
   "metadata": {},
   "outputs": [
    {
     "data": {
      "text/plain": [
       "[1, 2, [1, 2, 3], ['x', 'y'], ['amie', 'amir']]"
      ]
     },
     "execution_count": 85,
     "metadata": {},
     "output_type": "execute_result"
    }
   ],
   "source": [
    "filtered_list = list(filter(lambda x: x, list_with_empt))\n",
    "filtered_list"
   ]
  },
  {
   "cell_type": "markdown",
   "id": "a5a2e804",
   "metadata": {},
   "source": [
    "### 10. Python Program for Cloning or Copying a List.\n",
    "\n",
    "**a. Using copy() method:**"
   ]
  },
  {
   "cell_type": "code",
   "execution_count": 92,
   "id": "de1074ea",
   "metadata": {},
   "outputs": [
    {
     "name": "stdout",
     "output_type": "stream",
     "text": [
      "Copied list:  [1, 2, 3, 'amir', 'amie', 'python']\n"
     ]
    }
   ],
   "source": [
    "list_d = [1,2,3,'amir','amie','python']\n",
    "copy_d = list_d.copy()\n",
    "print(\"Copied list: \", copy_d)"
   ]
  },
  {
   "cell_type": "markdown",
   "id": "23e20a51",
   "metadata": {},
   "source": [
    "**b. Using loop:**"
   ]
  },
  {
   "cell_type": "code",
   "execution_count": 93,
   "id": "9020ae4f",
   "metadata": {},
   "outputs": [
    {
     "name": "stdout",
     "output_type": "stream",
     "text": [
      "Copied List:  [1, 2, 3, 'amir', 'amie', 'python']\n"
     ]
    }
   ],
   "source": [
    "copied_list = []\n",
    "for ele in list_d:\n",
    "    copied_list.append(ele)\n",
    "    \n",
    "print(\"Copied List: \", copied_list)"
   ]
  },
  {
   "cell_type": "markdown",
   "id": "470728e3",
   "metadata": {},
   "source": [
    "**c. Using List Comprehension:**"
   ]
  },
  {
   "cell_type": "code",
   "execution_count": 94,
   "id": "b17e7c19",
   "metadata": {},
   "outputs": [
    {
     "name": "stdout",
     "output_type": "stream",
     "text": [
      "Duplicate List:  [1, 2, 3, 'amir', 'amie', 'python']\n"
     ]
    }
   ],
   "source": [
    "duplicate_list = [ele for ele in list_d]\n",
    "print(\"Duplicate List: \", duplicate_list)"
   ]
  },
  {
   "cell_type": "markdown",
   "id": "ba61e174",
   "metadata": {},
   "source": [
    "### 11. Python Program to count the occurrences of elements in a List.\n",
    "\n",
    "**a. Using loop:**"
   ]
  },
  {
   "cell_type": "code",
   "execution_count": 1,
   "id": "7e3311c2",
   "metadata": {},
   "outputs": [
    {
     "name": "stdout",
     "output_type": "stream",
     "text": [
      "Frequency for Elements \n",
      "\n",
      "Element \t Count\n",
      "\n",
      "1 \t\t 2\n",
      "2 \t\t 2\n",
      "3 \t\t 3\n",
      "4 \t\t 2\n",
      "5 \t\t 2\n",
      "6 \t\t 3\n",
      "7 \t\t 2\n",
      "a \t\t 3\n",
      "9 \t\t 2\n",
      "8 \t\t 1\n"
     ]
    }
   ],
   "source": [
    "# List to count\n",
    "myList = [1,1,2,3,4,2,5,6,3,7,'a',9,8,7,9,6,'a',5,6,4,3,'a']\n",
    "\n",
    "# Empty dictionary to store list ele as key and count as value\n",
    "counts = {}\n",
    "\n",
    "for ele in myList:\n",
    "    if ele in counts:\n",
    "        counts[ele] += 1\n",
    "    else:\n",
    "        counts[ele] = 1\n",
    "        \n",
    "# display results       \n",
    "print(\"Frequency for Elements \\n\")\n",
    "print(\"Element \\t Count\\n\")\n",
    "for key, value in counts.items():\n",
    "    print(key,'\\t\\t',value)"
   ]
  },
  {
   "cell_type": "code",
   "execution_count": 106,
   "id": "cde2949e",
   "metadata": {},
   "outputs": [
    {
     "name": "stdout",
     "output_type": "stream",
     "text": [
      "Collecting tabulate\n",
      "  Downloading tabulate-0.9.0-py3-none-any.whl (35 kB)\n",
      "Installing collected packages: tabulate\n",
      "Successfully installed tabulate-0.9.0\n",
      "Note: you may need to restart the kernel to use updated packages.\n"
     ]
    }
   ],
   "source": [
    "pip install tabulate"
   ]
  },
  {
   "cell_type": "code",
   "execution_count": 3,
   "id": "a5f056c1",
   "metadata": {},
   "outputs": [],
   "source": [
    "from tabulate import tabulate"
   ]
  },
  {
   "cell_type": "code",
   "execution_count": 9,
   "id": "039c69ac",
   "metadata": {},
   "outputs": [
    {
     "name": "stdout",
     "output_type": "stream",
     "text": [
      "Elemnts      Count\n",
      "---------  -------\n",
      "1                2\n",
      "2                2\n",
      "3                3\n",
      "4                2\n",
      "5                2\n",
      "6                3\n",
      "7                2\n",
      "a                3\n",
      "9                2\n",
      "8                1\n"
     ]
    }
   ],
   "source": [
    "# tabulate takes list of list as argument\n",
    "# converting our dict to list of lists as:\n",
    "\n",
    "data = [{'Elemnts': key, 'Count': value} for key, value in counts.items()]\n",
    "\n",
    "# table\n",
    "freq_table = tabulate(data, headers='keys')\n",
    "print(freq_table)"
   ]
  },
  {
   "cell_type": "markdown",
   "id": "88907d51",
   "metadata": {},
   "source": [
    "**b. Using Dictionary Comprehension and count() method:**"
   ]
  },
  {
   "cell_type": "code",
   "execution_count": 13,
   "id": "d1e39f92",
   "metadata": {},
   "outputs": [
    {
     "name": "stdout",
     "output_type": "stream",
     "text": [
      "{1: 2, 2: 2, 3: 3, 4: 2, 5: 2, 6: 3, 7: 2, 'a': 3, 9: 2, 8: 1}\n"
     ]
    }
   ],
   "source": [
    "frequencies = {ele : myList.count(ele) for ele in myList}\n",
    "print(frequencies)"
   ]
  },
  {
   "cell_type": "markdown",
   "id": "4f4fb004",
   "metadata": {},
   "source": [
    "# THANK YOU\n",
    "---"
   ]
  }
 ],
 "metadata": {
  "kernelspec": {
   "display_name": "Python 3 (ipykernel)",
   "language": "python",
   "name": "python3"
  },
  "language_info": {
   "codemirror_mode": {
    "name": "ipython",
    "version": 3
   },
   "file_extension": ".py",
   "mimetype": "text/x-python",
   "name": "python",
   "nbconvert_exporter": "python",
   "pygments_lexer": "ipython3",
   "version": "3.9.7"
  }
 },
 "nbformat": 4,
 "nbformat_minor": 5
}
