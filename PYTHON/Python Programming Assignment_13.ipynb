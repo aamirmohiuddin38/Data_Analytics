{
 "cells": [
  {
   "cell_type": "markdown",
   "id": "62fd0c8e",
   "metadata": {},
   "source": [
    "# Python Programming Basic Assignment 13"
   ]
  },
  {
   "cell_type": "markdown",
   "id": "ed4a3c0b",
   "metadata": {},
   "source": [
    "\n",
    "### 1. Write a program that calculates and prints the value according to the given formula:\n",
    "Q = Square root of [(2 C D)/H]\n",
    "\n",
    "Following are the fixed values of C and H:\n",
    "\n",
    "C is 50. H is 30.\n",
    "\n",
    "D is the variable whose values should be input to your program in a comma-separated sequence.\n",
    "\n",
    "Example\n",
    "\n",
    "Let us assume the following comma separated input sequence is given to the program:\n",
    "\n",
    "100,150,180\n",
    "\n",
    "The output of the program should be:\n",
    "\n",
    "18,22,24"
   ]
  },
  {
   "cell_type": "markdown",
   "id": "ed37b6ed",
   "metadata": {},
   "source": [
    "### 2. Write a program which takes 2 digits, X,Y as input and generates a 2-dimensional array. The element value in the i-th row and j-th column of the array should be i*j."
   ]
  },
  {
   "cell_type": "markdown",
   "id": "bc7f977b",
   "metadata": {},
   "source": [
    "### 3. Write a program that accepts a comma separated sequence of words as input and prints the words in a comma-separated sequence after sorting them alphabetically."
   ]
  },
  {
   "cell_type": "markdown",
   "id": "171c3d90",
   "metadata": {},
   "source": [
    "### 4. Write a program that accepts a sequence of whitespace separated words as input and prints the words after removing all duplicate words and sorting them alphanumerically."
   ]
  },
  {
   "cell_type": "markdown",
   "id": "88d25c49",
   "metadata": {},
   "source": [
    "### 5. Write a program that accepts a sentence and calculate the number of letters and digits."
   ]
  },
  {
   "cell_type": "markdown",
   "id": "9695c4ca",
   "metadata": {},
   "source": [
    "### 6. A website requires the users to input username and password to register. Write a program to check the validity of password input by users."
   ]
  },
  {
   "cell_type": "markdown",
   "id": "38fe0c95",
   "metadata": {},
   "source": [
    "# ANSWERS <font color=\"green\" style=\"float:right\"> Aamir Mohiuddin </font>\n",
    "---"
   ]
  },
  {
   "cell_type": "markdown",
   "id": "93b24e96",
   "metadata": {},
   "source": [
    "### 1. Problem 1\n",
    "\n",
    "**Formula to use:**\n",
    "$$\n",
    "    Q = \\sqrt{\\frac{2*C*D}{H}}  : where\\ C = 50, H = 30\n",
    "$$"
   ]
  },
  {
   "cell_type": "code",
   "execution_count": 4,
   "id": "ff63b56e",
   "metadata": {},
   "outputs": [
    {
     "name": "stdout",
     "output_type": "stream",
     "text": [
      "Enter Value of D (comma separated): 100,150,180\n",
      "Answer:  [18, 22, 24]\n"
     ]
    }
   ],
   "source": [
    "import math  #to use sqrt\n",
    "numbers = input(\"Enter Value of D (comma separated): \")\n",
    "numbers = numbers.split(',')\n",
    "\n",
    "result_list = []\n",
    "\n",
    "for D in numbers:\n",
    "    Q = round(math.sqrt(2 * 50 * int(D) / 30))\n",
    "    result_list.append(Q)\n",
    "    \n",
    "print('Answer: ', result_list)"
   ]
  },
  {
   "cell_type": "markdown",
   "id": "c1f6849e",
   "metadata": {},
   "source": [
    "### 2. Write a program which takes 2 digits, X,Y as input and generates a 2-dimensional array. The element value in the i-th row and j-th column of the array should be i*j."
   ]
  },
  {
   "cell_type": "code",
   "execution_count": 2,
   "id": "6d529712",
   "metadata": {},
   "outputs": [
    {
     "name": "stdout",
     "output_type": "stream",
     "text": [
      "Enter the size of matrix as 2 digits(comma separted): 3,3\n",
      "[[0, 0, 0], [0, 1, 2], [0, 2, 4]]\n"
     ]
    }
   ],
   "source": [
    "size = input(\"Enter the size of matrix as 2 digits(comma separted): \")\n",
    "X,Y = size.split(',')\n",
    "X = int(X)\n",
    "Y = int(Y)\n",
    "\n",
    "matrix = []\n",
    "for x in range(X):\n",
    "    row = []\n",
    "    for y in range(Y):\n",
    "        row.append(x*y)\n",
    "    matrix.append(row)\n",
    "    \n",
    "print(matrix)"
   ]
  },
  {
   "cell_type": "markdown",
   "id": "6b5253ee",
   "metadata": {},
   "source": [
    "### 3. Write a program that accepts a comma separated sequence of words as input and prints the words in a comma-separated sequence after sorting them alphabetically."
   ]
  },
  {
   "cell_type": "code",
   "execution_count": 5,
   "id": "568812ec",
   "metadata": {},
   "outputs": [
    {
     "name": "stdout",
     "output_type": "stream",
     "text": [
      "Enter different words (comma separted): Python, Analysis, Customer, Business\n",
      "Entered Words:  ['Python', ' Analysis', ' Customer', ' Business']\n",
      "Alphabetically Ordered:  [' Analysis', ' Business', ' Customer', 'Python']\n"
     ]
    }
   ],
   "source": [
    "words = input(\"Enter different words (comma separted): \")\n",
    "words = words.split(',')\n",
    "\n",
    "sorted_words = sorted(words)\n",
    "print(\"Entered Words: \", words)\n",
    "print(\"Alphabetically Ordered: \", sorted_words)"
   ]
  },
  {
   "cell_type": "markdown",
   "id": "26b8d2a1",
   "metadata": {},
   "source": [
    "### 4. Write a program that accepts a sequence of whitespace separated words as input and prints the words after removing all duplicate words and sorting them alphanumerically."
   ]
  },
  {
   "cell_type": "code",
   "execution_count": 18,
   "id": "cbe62637",
   "metadata": {},
   "outputs": [
    {
     "name": "stdout",
     "output_type": "stream",
     "text": [
      "Enter your words (whitspace separated): hello world and practice makes perfect and hello world again\n",
      "Entere Words:  ['again', 'and', 'hello', 'makes', 'perfect', 'practice', 'world']\n",
      "again and hello makes perfect practice world\n"
     ]
    }
   ],
   "source": [
    "words = input(\"Enter your words (whitspace separated): \")\n",
    "\n",
    "sorted_words_set = sorted(set(words.split()))\n",
    "print(\"Entere Words: \", sorted_words_set)\n",
    "\n",
    "print(\" \".join(sorted_words))"
   ]
  },
  {
   "cell_type": "markdown",
   "id": "80dd3d9e",
   "metadata": {},
   "source": [
    "### 5. Write a program that accepts a sentence and calculate the number of letters and digits."
   ]
  },
  {
   "cell_type": "code",
   "execution_count": 32,
   "id": "ec2c9362",
   "metadata": {},
   "outputs": [
    {
     "name": "stdout",
     "output_type": "stream",
     "text": [
      "Enter you sentence: Hello! My Username is Amie@123\n",
      "Given Sentence: Hello! My Username is Amie@123\n",
      "-----------------------------------------\n",
      "Letter \t Digits \t Special Characters\n",
      "-----------------------------------------\n",
      "21 \t 3 \t\t 2\n"
     ]
    }
   ],
   "source": [
    "sentence = input(\"Enter you sentence: \")\n",
    "characters = list(sentence)\n",
    "letter, digit, special = 0, 0, 0\n",
    "\n",
    "for char in characters:\n",
    "    if char.isalpha():\n",
    "        letter += 1\n",
    "    elif char.isdigit():\n",
    "        digit += 1\n",
    "    else:\n",
    "        if char != ' ':\n",
    "            special += 1\n",
    "        \n",
    "print(\"Given Sentence:\", sentence)\n",
    "print('-----------------------------------------')\n",
    "print(\"Letter \\t Digits \\t Special Characters\")\n",
    "print('-----------------------------------------')\n",
    "print(letter, '\\t', digit, '\\t\\t', special)\n"
   ]
  },
  {
   "cell_type": "markdown",
   "id": "52ded2ea",
   "metadata": {},
   "source": [
    "### 6. A website requires the users to input username and password to register. Write a program to check the validity of password input by users."
   ]
  },
  {
   "cell_type": "code",
   "execution_count": 36,
   "id": "f8ca09f7",
   "metadata": {},
   "outputs": [
    {
     "name": "stdout",
     "output_type": "stream",
     "text": [
      "Register for webiste \n",
      " \n",
      "------------------------------------\n",
      "Enter Username:- aamir\n",
      "Set Password:- 123\n",
      "Confirm Password:- 122\n",
      "Password didn't match\n",
      "Confirm Password:- 123\n",
      "Registred Succesfully\n",
      "You can login Now \n",
      "Please Enter password to Login:- 123\n",
      "Succesfully Logged In\n"
     ]
    }
   ],
   "source": [
    "print(\"Register for webiste \\n \")\n",
    "print('------------------------------------')\n",
    "\n",
    "username = input(\"Enter Username:- \")\n",
    "password = input(\"Set Password:- \")\n",
    "confirm_pswd = input(\"Confirm Password:- \")\n",
    "\n",
    "while(password != confirm_pswd):\n",
    "    print(\"Password didn't match\")\n",
    "    confirm_pswd = input(\"Confirm Password:- \")\n",
    "    \n",
    "print('Registred Succesfully')\n",
    "\n",
    "print('You can login Now ')\n",
    "login_psd = input(\"Please Enter password to Login:- \")\n",
    "\n",
    "if login_psd == password:\n",
    "    print(\"Succesfully Logged In\")\n",
    "else:\n",
    "    print(\"Password wrong. Try again\")\n"
   ]
  },
  {
   "cell_type": "markdown",
   "id": "ac701225",
   "metadata": {},
   "source": [
    "### b. Password Validity check of certain pattern"
   ]
  },
  {
   "cell_type": "code",
   "execution_count": 42,
   "id": "bd664a6a",
   "metadata": {},
   "outputs": [
    {
     "name": "stdout",
     "output_type": "stream",
     "text": [
      "Enter password: Amie@38\n",
      "Valid Password\n"
     ]
    }
   ],
   "source": [
    "import re\n",
    "pswd = input('Enter password: ')\n",
    "flag = True\n",
    "\n",
    "if not re.search('[a-z]', pswd):   #check for atleast one lower case letter\n",
    "    flag = False\n",
    "if not re.search('[0-9]', pswd):    #check for atleast one digit\n",
    "    flag = False\n",
    "if not re.search('[A-Z]', pswd):    #check for atleast one upper case letter\n",
    "    flag = False\n",
    "if not re.search('[#@!$%&]', pswd):  #checks for special character\n",
    "    flag = False\n",
    "if len(pswd) < 6:         #checks for lenght\n",
    "    flag = False\n",
    "    \n",
    "\n",
    "if flag:\n",
    "    print(\"Valid Password\")\n",
    "else:\n",
    "    print(\"Invalid Password\")"
   ]
  },
  {
   "cell_type": "markdown",
   "id": "1461e2e9",
   "metadata": {},
   "source": [
    "# THANK YOU\n",
    "---"
   ]
  }
 ],
 "metadata": {
  "kernelspec": {
   "display_name": "Python 3 (ipykernel)",
   "language": "python",
   "name": "python3"
  },
  "language_info": {
   "codemirror_mode": {
    "name": "ipython",
    "version": 3
   },
   "file_extension": ".py",
   "mimetype": "text/x-python",
   "name": "python",
   "nbconvert_exporter": "python",
   "pygments_lexer": "ipython3",
   "version": "3.9.7"
  }
 },
 "nbformat": 4,
 "nbformat_minor": 5
}
