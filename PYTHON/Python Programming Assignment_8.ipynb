{
 "cells": [
  {
   "cell_type": "markdown",
   "id": "9b304197",
   "metadata": {},
   "source": [
    "# Python Basic Programming Assignment 8"
   ]
  },
  {
   "cell_type": "markdown",
   "id": "22789ae6",
   "metadata": {},
   "source": [
    "### 1. Write a Python Program to Add Two Matrices?"
   ]
  },
  {
   "cell_type": "markdown",
   "id": "044ceda6",
   "metadata": {},
   "source": [
    "### 2. Write a Python Program to Multiply Two Matrices?"
   ]
  },
  {
   "cell_type": "markdown",
   "id": "5f688e46",
   "metadata": {},
   "source": [
    "### 3. Write a Python Program to Transpose a Matrix?"
   ]
  },
  {
   "cell_type": "markdown",
   "id": "b2849025",
   "metadata": {},
   "source": [
    "\n",
    "### 4. Write a Python Program to Sort Words in Alphabetic Order?\n"
   ]
  },
  {
   "cell_type": "markdown",
   "id": "48ac7b24",
   "metadata": {},
   "source": [
    "### 5. Write a Python Program to Remove Punctuation From a String?"
   ]
  },
  {
   "cell_type": "markdown",
   "id": "9b1c9817",
   "metadata": {},
   "source": [
    "# ANSWERS <font color=\"green\" style=\"float:right\"> Aamir Mohiuddin </font>\n",
    "---"
   ]
  },
  {
   "cell_type": "markdown",
   "id": "b388250b",
   "metadata": {},
   "source": [
    "### 1. Python Program to Add Two Matrices."
   ]
  },
  {
   "cell_type": "code",
   "execution_count": 15,
   "id": "7d67091c",
   "metadata": {},
   "outputs": [
    {
     "name": "stdout",
     "output_type": "stream",
     "text": [
      "Enter the no. of rows m: 2\n",
      "Enter the no. of columns n: 2\n",
      "Enter Matrix A: \n",
      "Enter mat[0][0] : 1\n",
      "Enter mat[0][1] : 2\n",
      "Enter mat[1][0] : 3\n",
      "Enter mat[1][1] : 4\n",
      "Enter Matrix B: \n",
      "Enter mat[0][0] : 4\n",
      "Enter mat[0][1] : 3\n",
      "Enter mat[1][0] : 2\n",
      "Enter mat[1][1] : 1\n",
      "Sum is:  [[5, 5], [5, 5]]\n"
     ]
    }
   ],
   "source": [
    "def inp_matrix(m,n):\n",
    "    mat = []  # matrix to return\n",
    "    for i in range(m):\n",
    "        row = []  # rows\n",
    "        for j in range(n):\n",
    "            ele = eval(input(f\"Enter mat[{i}][{j}] : \"))\n",
    "            row.append(ele)\n",
    "        mat.append(row)\n",
    "    return mat\n",
    "\n",
    "def sumAB(A,B):\n",
    "    return [[A[i][j] + B[i][j]  for j in range(len(A[0]))] for i in range(len(A))]\n",
    "\n",
    "m = int(input(\"Enter the no. of rows m: \"))\n",
    "n = int(input(\"Enter the no. of columns n: \"))\n",
    "\n",
    "print(\"Enter Matrix A: \")\n",
    "A = inp_matrix(m,n)\n",
    "\n",
    "print(\"Enter Matrix B: \")\n",
    "B = inp_matrix(m,n)\n",
    "\n",
    "C = sumAB(A,B)\n",
    "print(\"Sum is: \", C)"
   ]
  },
  {
   "cell_type": "markdown",
   "id": "2fddc955",
   "metadata": {},
   "source": [
    "### 2. Program To Multiply Two Matrices."
   ]
  },
  {
   "cell_type": "code",
   "execution_count": 25,
   "id": "ca1ec6d8",
   "metadata": {},
   "outputs": [
    {
     "name": "stdout",
     "output_type": "stream",
     "text": [
      "Enter size of Matrix A: \n",
      "Enter no. of rows of A : 2\n",
      "Enter no. of columns of A: 2\n",
      "Enter size of Matrix B: \n",
      "Enter no. of rows of B : 2\n",
      "Enter no. of columns of B: 2\n",
      "Multiplication Possible\n",
      "Enter mat[0][0] : 1\n",
      "Enter mat[0][1] : 2\n",
      "Enter mat[1][0] : 3\n",
      "Enter mat[1][1] : 4\n",
      "Enter mat[0][0] : 1\n",
      "Enter mat[0][1] : 2\n",
      "Enter mat[1][0] : 3\n",
      "Enter mat[1][1] : 4\n",
      "Multiplication is:  [[7, 10], [15, 22]]\n"
     ]
    }
   ],
   "source": [
    "def inp_matrix(m,n):\n",
    "    mat = []  # matrix to return\n",
    "    for i in range(m):\n",
    "        row = []  # rows\n",
    "        for j in range(n):\n",
    "            ele = eval(input(f\"Enter mat[{i}][{j}] : \"))\n",
    "            row.append(ele)\n",
    "        mat.append(row)\n",
    "    return mat\n",
    "\n",
    "def multAB(A,B):\n",
    "    result = [[0 for _ in range(len(B[0]))] for _ in range(len(A))]\n",
    "    for i in range(len(A)):\n",
    "        for j in range(len(B[0])):\n",
    "            for k in range(len(B)):\n",
    "                result[i][j] += A[i][k] * B[k][j]\n",
    "    return result\n",
    "\n",
    "print(\"Enter size of Matrix A: \")\n",
    "m = int(input(\"Enter no. of rows of A : \"))\n",
    "n = int(input(\"Enter no. of columns of A: \"))\n",
    "\n",
    "print(\"Enter size of Matrix B: \")\n",
    "p = int(input(\"Enter no. of rows of B : \"))\n",
    "q = int(input(\"Enter no. of columns of B: \"))\n",
    "\n",
    "if n == p:\n",
    "    print(\"Multiplication Possible\")\n",
    "    A = inp_matrix(m,n)\n",
    "    B = inp_matrix(p,q)\n",
    "    C = multAB(A,B)\n",
    "    print(\"Multiplication is: \", C)\n",
    "else:\n",
    "    print(\"Multiplication Not Possible.\")"
   ]
  },
  {
   "cell_type": "markdown",
   "id": "0e032831",
   "metadata": {},
   "source": [
    "### 3. Program to Trasnspose a Matrix."
   ]
  },
  {
   "cell_type": "code",
   "execution_count": 26,
   "id": "753d8842",
   "metadata": {},
   "outputs": [
    {
     "name": "stdout",
     "output_type": "stream",
     "text": [
      "Enter the no. of rows m: 2\n",
      "Enter the no. of columns n: 2\n",
      "Enter Matrix A: \n",
      "Enter mat[0][0] : 1\n",
      "Enter mat[0][1] : 2\n",
      "Enter mat[1][0] : 3\n",
      "Enter mat[1][1] : 4\n",
      "Transpose of A: \n",
      "[[1, 3], [2, 4]]\n"
     ]
    }
   ],
   "source": [
    "def inp_matrix(m,n):\n",
    "    mat = []  # matrix to return\n",
    "    for i in range(m):\n",
    "        row = []  # rows\n",
    "        for j in range(n):\n",
    "            ele = eval(input(f\"Enter mat[{i}][{j}] : \"))\n",
    "            row.append(ele)\n",
    "        mat.append(row)\n",
    "    return mat\n",
    "\n",
    "def transpose(A):\n",
    "    result = [[0 for _ in range(len(A[0]))] for _ in range(len(A))]\n",
    "    \n",
    "    for i in range(len(A)):\n",
    "        for j in range(len(A[0])):\n",
    "            result[j][i] = A[i][j]\n",
    "    return result\n",
    "    \n",
    "\n",
    "m = int(input(\"Enter the no. of rows m: \"))\n",
    "n = int(input(\"Enter the no. of columns n: \"))\n",
    "\n",
    "print(\"Enter Matrix A: \")\n",
    "A = inp_matrix(m,n)\n",
    "\n",
    "print(\"Transpose of A: \")\n",
    "T = transpose(A)\n",
    "print(T)\n"
   ]
  },
  {
   "cell_type": "markdown",
   "id": "efaf3a77",
   "metadata": {},
   "source": [
    "### 4. Python Program to Sort Words in Alphabetic Order."
   ]
  },
  {
   "cell_type": "code",
   "execution_count": 33,
   "id": "5ab10806",
   "metadata": {},
   "outputs": [
    {
     "name": "stdout",
     "output_type": "stream",
     "text": [
      "Give list of words:  ['zebra', 'monkey', 'dog', 'apple', 'bat']\n",
      "Sorted in alphabetic Order:  ['apple', 'bat', 'dog', 'monkey', 'zebra']\n"
     ]
    }
   ],
   "source": [
    "# Words to Sort\n",
    "words = ['zebra','monkey','dog','apple','bat']\n",
    "\n",
    "sorted_words = sorted(words)\n",
    "print(\"Give list of words: \", words)\n",
    "print(\"Sorted in alphabetic Order: \", sorted_words)"
   ]
  },
  {
   "cell_type": "markdown",
   "id": "b7cdb2e8",
   "metadata": {},
   "source": [
    "### 5. Python Program to remove Punctuation from String."
   ]
  },
  {
   "cell_type": "code",
   "execution_count": 34,
   "id": "a4282824",
   "metadata": {},
   "outputs": [
    {
     "name": "stdout",
     "output_type": "stream",
     "text": [
      "Enter String: Hello! My name is Aamir, Let's practice more.\n",
      "Without Punctuation:  Hello My name is Aamir Lets practice more\n"
     ]
    }
   ],
   "source": [
    "punctuations = '''!()-[]{};:'\"\\,<>./?@#$%^&*_~'''\n",
    "inpString = input(\"Enter String: \")\n",
    "\n",
    "stringWithoutPunc = \"\"\n",
    "for char in inpString:\n",
    "    if char not in punctuations:\n",
    "        stringWithoutPunc += char\n",
    "\n",
    "print(\"Without Punctuation: \", stringWithoutPunc)"
   ]
  },
  {
   "cell_type": "markdown",
   "id": "e79f9e20",
   "metadata": {},
   "source": [
    "# THANK YOU\n",
    "---"
   ]
  }
 ],
 "metadata": {
  "kernelspec": {
   "display_name": "Python 3 (ipykernel)",
   "language": "python",
   "name": "python3"
  },
  "language_info": {
   "codemirror_mode": {
    "name": "ipython",
    "version": 3
   },
   "file_extension": ".py",
   "mimetype": "text/x-python",
   "name": "python",
   "nbconvert_exporter": "python",
   "pygments_lexer": "ipython3",
   "version": "3.9.7"
  }
 },
 "nbformat": 4,
 "nbformat_minor": 5
}
