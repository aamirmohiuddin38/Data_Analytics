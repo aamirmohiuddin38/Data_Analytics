{
 "cells": [
  {
   "cell_type": "markdown",
   "id": "08c66ea5",
   "metadata": {},
   "source": [
    "## Programming Assignment_2\n",
    "-------------"
   ]
  },
  {
   "cell_type": "markdown",
   "id": "4e50cf42",
   "metadata": {},
   "source": [
    "### 1. Write a Python program to convert kilometers to miles?\n"
   ]
  },
  {
   "cell_type": "markdown",
   "id": "0df4e6bf",
   "metadata": {},
   "source": [
    "### 2.Write a Python program to convert Celsius to Fahrenheit?"
   ]
  },
  {
   "cell_type": "markdown",
   "id": "46129b8e",
   "metadata": {},
   "source": [
    "### 3. Write a Python program to display calendar?\n"
   ]
  },
  {
   "cell_type": "markdown",
   "id": "db2bf0f7",
   "metadata": {},
   "source": [
    "### 4. Write a Python program to solve quadratic equation?"
   ]
  },
  {
   "cell_type": "markdown",
   "id": "f70f74c9",
   "metadata": {},
   "source": [
    "### 5. Write a Python program to swap two variables without temp variable?"
   ]
  },
  {
   "cell_type": "markdown",
   "id": "507d038d",
   "metadata": {},
   "source": [
    "# ANSWERS <font color=\"green\" style=\"float:right\" >Aamir Mohiuddin </font>"
   ]
  },
  {
   "cell_type": "markdown",
   "id": "33db226c",
   "metadata": {},
   "source": [
    "### 1. Program to Convert Kilometer to miles.\n",
    "\n",
    "$$\n",
    "    1 \\ Kilometer = 0.621371 \\ miles\n",
    "$$"
   ]
  },
  {
   "cell_type": "code",
   "execution_count": 4,
   "id": "6aa509c7",
   "metadata": {},
   "outputs": [
    {
     "name": "stdout",
     "output_type": "stream",
     "text": [
      "Enter the Number of Kilometers3\n",
      "3 Kms =  1.86411 miles\n"
     ]
    }
   ],
   "source": [
    "kms = eval(input(\"Enter the Number of Kilometers\"))\n",
    "miles = kms * 0.621371\n",
    "\n",
    "print(kms,\"Kms = \", round(miles,5),\"miles\")"
   ]
  },
  {
   "cell_type": "markdown",
   "id": "b4a9f79b",
   "metadata": {},
   "source": [
    "### 2. Program to Convert Celsius to Fahrenheit.\n",
    "\n",
    "$$\n",
    "   0^{\\circ} \\ C = ({0}*{1.8}) + 32\\ F\n",
    "$$"
   ]
  },
  {
   "cell_type": "code",
   "execution_count": 9,
   "id": "4ffcfde7",
   "metadata": {},
   "outputs": [
    {
     "name": "stdout",
     "output_type": "stream",
     "text": [
      "Enter Celsius Values0\n",
      "0 Celsius=  32.0 Fahrenheit\n"
     ]
    }
   ],
   "source": [
    "cls = eval(input(\"Enter Celsius Values\"))\n",
    "farh = (cls * 1.8) + 32\n",
    "\n",
    "print(cls,\"Celsius= \", farh,\"Fahrenheit\")"
   ]
  },
  {
   "cell_type": "markdown",
   "id": "0abd692c",
   "metadata": {},
   "source": [
    "### 3. Program to display calendar.\n",
    "\n",
    "To display calendar of particular date, let's import **calendar module**"
   ]
  },
  {
   "cell_type": "code",
   "execution_count": 10,
   "id": "d2194f81",
   "metadata": {},
   "outputs": [],
   "source": [
    "## import module\n",
    "import calendar"
   ]
  },
  {
   "cell_type": "code",
   "execution_count": 14,
   "id": "ad703f52",
   "metadata": {},
   "outputs": [
    {
     "name": "stdout",
     "output_type": "stream",
     "text": [
      "Enter Year:2022\n",
      "Enter Month12\n",
      "   December 2022\n",
      "Mo Tu We Th Fr Sa Su\n",
      "          1  2  3  4\n",
      " 5  6  7  8  9 10 11\n",
      "12 13 14 15 16 17 18\n",
      "19 20 21 22 23 24 25\n",
      "26 27 28 29 30 31\n",
      "\n"
     ]
    }
   ],
   "source": [
    "## take date from user - year and month\n",
    "year = int(input(\"Enter Year:\"))\n",
    "month = int(input(\"Enter Month\"))\n",
    "\n",
    "print(calendar.month(year,month))\n"
   ]
  },
  {
   "cell_type": "markdown",
   "id": "9c435369",
   "metadata": {},
   "source": [
    "### 4. Program to solve Quadratic Equation.\n",
    "\n",
    "General form of Quad. Equs is given by: $$ ax^{2} + bx + c = 0 $$\n",
    "where a, b and c are coefficients.\n",
    "To solve quadratic equs:\n",
    "1. We calculate Discriminant d as: $$ D = \\sqrt{ b^{2} - 4ac} $$\n",
    "2. Find roots: $$  x =  \\frac{-b \\pm D }{2a} $$\n"
   ]
  },
  {
   "cell_type": "code",
   "execution_count": 18,
   "id": "833a45b9",
   "metadata": {},
   "outputs": [],
   "source": [
    "## import cmath(complex math) module as we have to calc square root value\n",
    "## we can use simple math module also, but roots of equs. can be complex numbers also, hence we import cmath\n",
    "import cmath"
   ]
  },
  {
   "cell_type": "code",
   "execution_count": 23,
   "id": "c2903120",
   "metadata": {},
   "outputs": [
    {
     "name": "stdout",
     "output_type": "stream",
     "text": [
      "Enter value of a :1\n",
      "Enter value of b: 5\n",
      "Enter value of c: 6\n",
      "The roots of given equs. are: (-2+0j) (-3+0j)\n"
     ]
    }
   ],
   "source": [
    "## take values of cofficients a,b and c from user\n",
    "a = eval(input(\"Enter value of a :\"))\n",
    "b = eval(input(\"Enter value of b: \"))\n",
    "c = eval(input(\"Enter value of c: \"))\n",
    "\n",
    "## Calculate Discriminant\n",
    "D = cmath.sqrt(b**2 - 4*a*c)\n",
    "\n",
    "## Roots\n",
    "root1 = (-b + D) / 2*a\n",
    "root2 = (-b - D) / 2*a\n",
    "\n",
    "\n",
    "## Display Roots\n",
    "print(\"The roots of given equs. are:\" , root1, root2)"
   ]
  },
  {
   "cell_type": "markdown",
   "id": "fc07720c",
   "metadata": {},
   "source": [
    "### 5. Program to swap two variables without temp variable."
   ]
  },
  {
   "cell_type": "code",
   "execution_count": 24,
   "id": "227ec989",
   "metadata": {},
   "outputs": [
    {
     "name": "stdout",
     "output_type": "stream",
     "text": [
      "Values Before Swapping\n",
      "var1 =  10 , \n",
      "var2 =  20\n",
      "Values After Swapping\n",
      "var1 =  20 ,\n",
      "var2 = 10\n"
     ]
    }
   ],
   "source": [
    "print(\"Values Before Swapping\")\n",
    "var1 = 10\n",
    "var2 = 20\n",
    "print(\"var1 = \", var1 , \", \\nvar2 = \", var2)\n",
    "print(\"Values After Swapping\")\n",
    "var1, var2 = var2, var1\n",
    "\n",
    "print(\"var1 = \", var1, \",\\nvar2 =\", var2)\n"
   ]
  },
  {
   "cell_type": "markdown",
   "id": "b26c46a2",
   "metadata": {},
   "source": [
    "# THANK YOU\n",
    "\n",
    "---"
   ]
  }
 ],
 "metadata": {
  "kernelspec": {
   "display_name": "Python 3 (ipykernel)",
   "language": "python",
   "name": "python3"
  },
  "language_info": {
   "codemirror_mode": {
    "name": "ipython",
    "version": 3
   },
   "file_extension": ".py",
   "mimetype": "text/x-python",
   "name": "python",
   "nbconvert_exporter": "python",
   "pygments_lexer": "ipython3",
   "version": "3.9.7"
  }
 },
 "nbformat": 4,
 "nbformat_minor": 5
}
