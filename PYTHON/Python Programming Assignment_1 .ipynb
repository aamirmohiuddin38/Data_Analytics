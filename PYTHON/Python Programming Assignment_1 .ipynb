{
 "cells": [
  {
   "cell_type": "markdown",
   "id": "637b47a5",
   "metadata": {},
   "source": [
    "## Programming Assignment_1\n",
    "-------------"
   ]
  },
  {
   "cell_type": "markdown",
   "id": "0c647dbe",
   "metadata": {},
   "source": [
    "### 1. Write a Python program to print \"Hello Python\"?"
   ]
  },
  {
   "cell_type": "markdown",
   "id": "fc18a6cd",
   "metadata": {},
   "source": [
    "### 2. Write a Python program to do arithmetical operations addition and division.?\n"
   ]
  },
  {
   "cell_type": "markdown",
   "id": "af6e2429",
   "metadata": {},
   "source": [
    "### 3. Write a Python program to find the area of a triangle?\n"
   ]
  },
  {
   "cell_type": "markdown",
   "id": "b8140061",
   "metadata": {},
   "source": [
    "### 4. Write a Python program to swap two variables?\n"
   ]
  },
  {
   "cell_type": "markdown",
   "id": "3f8054c1",
   "metadata": {},
   "source": [
    "### 5. Write a Python program to generate a random number?"
   ]
  },
  {
   "cell_type": "markdown",
   "id": "4dba750f",
   "metadata": {},
   "source": [
    "# Answers\n",
    "<font color=\"green\" size=\"6\" style=\"float:right\" >Aamir Mohiuddin </font>"
   ]
  },
  {
   "cell_type": "markdown",
   "id": "8ded0163",
   "metadata": {},
   "source": [
    "### 1. Program to Print \"Hello Python\""
   ]
  },
  {
   "cell_type": "code",
   "execution_count": 1,
   "id": "767260bc",
   "metadata": {},
   "outputs": [
    {
     "name": "stdout",
     "output_type": "stream",
     "text": [
      "Hello Python\n"
     ]
    }
   ],
   "source": [
    "print(\"Hello Python\")"
   ]
  },
  {
   "cell_type": "markdown",
   "id": "29427971",
   "metadata": {},
   "source": [
    "### 2. Program to do arithmetic addidtion and division."
   ]
  },
  {
   "cell_type": "code",
   "execution_count": 6,
   "id": "2e62707a",
   "metadata": {},
   "outputs": [
    {
     "name": "stdout",
     "output_type": "stream",
     "text": [
      "Enter First Number3\n",
      "Enter Second Number0\n",
      "Enter 1 For addition \n",
      " 2 For Division2\n",
      "Number Can't be Divided by zero\n"
     ]
    }
   ],
   "source": [
    "## take input from user\n",
    "num1 = int(input(\"Enter First Number\"))\n",
    "num2 = int(input(\"Enter Second Number\"))\n",
    "\n",
    "choice = input(\"\"\"Enter 1 For addition \\n 2 For Division\"\"\")\n",
    "if choice == \"1\":\n",
    "        print(\"Addition Result = \", num1 + num2)\n",
    "elif choice == \"2\":\n",
    "    try:\n",
    "        print(\"Division Result = \", num1 / num2)\n",
    "    except:\n",
    "        print(\"Number Can't be Divided by zero\")\n",
    "else:\n",
    "    print(\"Invalid Choice Entered\")"
   ]
  },
  {
   "cell_type": "markdown",
   "id": "594b75e3",
   "metadata": {},
   "source": [
    "### 3.  Program to find the area of the traingle."
   ]
  },
  {
   "cell_type": "markdown",
   "id": "bbcc6a77",
   "metadata": {},
   "source": [
    "\n",
    "   $$ Area of  triangle =  \\frac{ Base * Height}{2} $$ \n"
   ]
  },
  {
   "cell_type": "code",
   "execution_count": 9,
   "id": "e3643ab7",
   "metadata": {},
   "outputs": [
    {
     "name": "stdout",
     "output_type": "stream",
     "text": [
      "Enter Base value:4\n",
      "Enter Height value:3\n",
      "The area of traingle is: 6.0\n"
     ]
    }
   ],
   "source": [
    "base = eval(input(\"Enter Base value:\"))\n",
    "height = eval(input(\"Enter Height value:\"))\n",
    "\n",
    "area = (base * height) / 2;\n",
    "\n",
    "print(\"The area of traingle is:\", area)"
   ]
  },
  {
   "cell_type": "markdown",
   "id": "0eed651c",
   "metadata": {},
   "source": [
    "### 4. Program to swap two variables ."
   ]
  },
  {
   "cell_type": "code",
   "execution_count": 16,
   "id": "b24ace91",
   "metadata": {},
   "outputs": [
    {
     "name": "stdout",
     "output_type": "stream",
     "text": [
      "Values Before Swapping\n",
      "var1 =  10 , \n",
      "var2 =  20\n",
      "Values After Swapping\n",
      "var1 =  20 ,\n",
      "var2 = 10\n"
     ]
    }
   ],
   "source": [
    "print(\"Values Before Swapping\")\n",
    "var1 = 10\n",
    "var2 = 20\n",
    "print(\"var1 = \", var1 , \", \\nvar2 = \", var2)\n",
    "print(\"Values After Swapping\")\n",
    "temp = var1\n",
    "var1 = var2\n",
    "var2 = temp\n",
    "print(\"var1 = \", var1, \",\\nvar2 =\", var2)\n",
    "\n",
    "## also as : var1, var2 = var2, var1"
   ]
  },
  {
   "cell_type": "markdown",
   "id": "2e9e28e3",
   "metadata": {},
   "source": [
    "### 5. Program to generate a random number."
   ]
  },
  {
   "cell_type": "markdown",
   "id": "78901143",
   "metadata": {},
   "source": [
    "for generating random random, let's import random module, and use its randint inbuilt function"
   ]
  },
  {
   "cell_type": "code",
   "execution_count": 17,
   "id": "45ef7daf",
   "metadata": {},
   "outputs": [],
   "source": [
    "import random"
   ]
  },
  {
   "cell_type": "code",
   "execution_count": 22,
   "id": "198f2778",
   "metadata": {},
   "outputs": [
    {
     "name": "stdout",
     "output_type": "stream",
     "text": [
      "32\n"
     ]
    }
   ],
   "source": [
    "print(random.randint(1,100)) ## range given from 1 to 100"
   ]
  },
  {
   "cell_type": "markdown",
   "id": "af74307c",
   "metadata": {},
   "source": [
    "# THANK YOU\n",
    "---"
   ]
  }
 ],
 "metadata": {
  "kernelspec": {
   "display_name": "Python 3 (ipykernel)",
   "language": "python",
   "name": "python3"
  },
  "language_info": {
   "codemirror_mode": {
    "name": "ipython",
    "version": 3
   },
   "file_extension": ".py",
   "mimetype": "text/x-python",
   "name": "python",
   "nbconvert_exporter": "python",
   "pygments_lexer": "ipython3",
   "version": "3.9.7"
  }
 },
 "nbformat": 4,
 "nbformat_minor": 5
}
