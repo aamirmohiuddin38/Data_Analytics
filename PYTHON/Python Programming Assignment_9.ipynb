{
 "cells": [
  {
   "cell_type": "markdown",
   "id": "47b9bb99",
   "metadata": {},
   "source": [
    "## Programming Assignment_9\n",
    "----------------"
   ]
  },
  {
   "cell_type": "markdown",
   "id": "c725f7a9",
   "metadata": {},
   "source": [
    "### 1. Write a Python program to check if the given number is a Disarium Number?"
   ]
  },
  {
   "cell_type": "markdown",
   "id": "f0064401",
   "metadata": {},
   "source": [
    "### 2. Write a Python program to print all disarium numbers between 1 to 100?"
   ]
  },
  {
   "cell_type": "markdown",
   "id": "31df1e4a",
   "metadata": {},
   "source": [
    "### 3. Write a Python program to check if the given number is Happy Number?"
   ]
  },
  {
   "cell_type": "markdown",
   "id": "51b265e3",
   "metadata": {},
   "source": [
    "### 4. Write a Python program to print all happy numbers between 1 and 100?"
   ]
  },
  {
   "cell_type": "markdown",
   "id": "6a190ee0",
   "metadata": {},
   "source": [
    "### 5. Write a Python program to determine whether the given number is a Harshad Number?"
   ]
  },
  {
   "cell_type": "markdown",
   "id": "7a7ea92e",
   "metadata": {},
   "source": [
    "### 6. Write a Python program to print all pronic numbers between 1 and 100?"
   ]
  },
  {
   "cell_type": "markdown",
   "id": "ba275442",
   "metadata": {},
   "source": [
    "# ANSWERS <font color=\"green\" style=\"float:right\"> Aamir Mohiuddin </font>\n",
    "---"
   ]
  },
  {
   "cell_type": "markdown",
   "id": "b7445d1b",
   "metadata": {},
   "source": [
    "### 1. Program to check if the number is a Disarum Number.\n",
    "A number is a Disarium number if the sum of each digit raised to the power of their respective positions is equal to the original number.\n",
    "\n",
    "Disarium Number definition is : abcd…(n-digits) = a^1 + b^2 + c^3 + d^4 + . . . . . and so on."
   ]
  },
  {
   "cell_type": "code",
   "execution_count": 11,
   "id": "c629272a",
   "metadata": {},
   "outputs": [
    {
     "name": "stdout",
     "output_type": "stream",
     "text": [
      "Enter number to check if its Disarum or not: 175\n",
      "175 is a Disarum Number.\n"
     ]
    }
   ],
   "source": [
    "num = input(\"Enter number to check if its Disarum or not: \")\n",
    "n = len(num)\n",
    "number = int(num)\n",
    "\n",
    "def isDisarum(num,l):\n",
    "    temp = num\n",
    "    result = 0\n",
    "    for i in range(l,0,-1):\n",
    "        digit = num % 10\n",
    "        result += pow(digit,i)\n",
    "        num = num // 10\n",
    "    \n",
    "    if result == temp:\n",
    "        print(f\"{temp} is a Disarum Number.\")\n",
    "    else:\n",
    "        print(f\"{temp} is Not a Disarum Number.\")\n",
    "\n",
    "isDisarum(number,n)"
   ]
  },
  {
   "cell_type": "markdown",
   "id": "832d1f94",
   "metadata": {},
   "source": [
    "### 2. Program to print all Disarum Numbers between 1 and 100"
   ]
  },
  {
   "cell_type": "code",
   "execution_count": 29,
   "id": "725f1612",
   "metadata": {},
   "outputs": [
    {
     "name": "stdout",
     "output_type": "stream",
     "text": [
      "Disarum Numbers from 1-100 are:\n",
      "1\t2\t3\t4\t5\t6\t7\t8\t9\t89\t"
     ]
    }
   ],
   "source": [
    "print(\"Disarum Numbers from 1-100 are:\")\n",
    "for i in range(1,100):\n",
    "    temp = i\n",
    "    l = len(str(i))\n",
    "    result = 0\n",
    "    for j in range(l,0,-1):\n",
    "        digit = i % 10\n",
    "        result += pow(digit,j)\n",
    "        i = i // 10\n",
    "    if result == temp:\n",
    "        print(temp,end = \"\\t\")\n",
    "        "
   ]
  },
  {
   "cell_type": "markdown",
   "id": "18ed50a8",
   "metadata": {},
   "source": [
    "### 3. Program to check if a given number is a Happy Number.\n",
    "A number is said to be happy if it yields 1 when replaced by the sum of squares of its digits repeatedly. If this process results in an endless cycle of numbers containing 4, then the number will be an unhappy number.\n",
    "\n",
    "Let's understand by an example:\n",
    "\n",
    "**Number = 32:**\n",
    "$$ 3^2+ 2^2 = 13 $$\n",
    "$$ 1^2 + 3^2 = 10 $$\n",
    "$$ 1^2 + 0^2 = 1 $$"
   ]
  },
  {
   "cell_type": "code",
   "execution_count": 66,
   "id": "d8f9b5e9",
   "metadata": {},
   "outputs": [
    {
     "name": "stdout",
     "output_type": "stream",
     "text": [
      "Enter Number to check if its happy number: 32\n"
     ]
    },
    {
     "data": {
      "text/plain": [
       "True"
      ]
     },
     "execution_count": 66,
     "metadata": {},
     "output_type": "execute_result"
    }
   ],
   "source": [
    "def is_HappyNum(n):\n",
    "    prevEle = set() # empty set if the number repeats than we will come out of loop, instead falling into endless loop\n",
    "    while n != 1:\n",
    "        n = sum(int(i)**2 for i in str(n))\n",
    "        if n in prevEle:\n",
    "            return False\n",
    "        prevEle.add(n)\n",
    "    return True\n",
    "\n",
    "num = int(input(\"Enter Number to check if its happy number: \"))\n",
    "is_HappyNum(num)"
   ]
  },
  {
   "cell_type": "markdown",
   "id": "f950f949",
   "metadata": {},
   "source": [
    "### 4. Program to print all the Happy Numbers between 1 and 100."
   ]
  },
  {
   "cell_type": "code",
   "execution_count": 65,
   "id": "3988cd5f",
   "metadata": {},
   "outputs": [
    {
     "name": "stdout",
     "output_type": "stream",
     "text": [
      "Happy Numbers from 1-100: \n",
      "1\t7\t10\t13\t19\t23\t28\t31\t32\t44\t49\t68\t70\t79\t82\t86\t91\t94\t97\t100\t"
     ]
    }
   ],
   "source": [
    "# using above function\n",
    "print(\"Happy Numbers from 1-100: \")\n",
    "for i in range(1,101):\n",
    "    if is_HappyNum(i):\n",
    "        print(i, end = \"\\t\")"
   ]
  },
  {
   "cell_type": "markdown",
   "id": "822f5ef0",
   "metadata": {},
   "source": [
    "### 5. Program to check if a given number is Harshad Number.\n",
    "If a number is divisible by the sum of its digits, then it will be known as a Harshad Number.\n",
    "\n",
    "For example:\n",
    "\n",
    "The number 156 is divisible by the sum (12) of its digits (1, 5, 6 ).\n",
    "\n",
    "Some Harshad numbers are 8, 54, 120, etc."
   ]
  },
  {
   "cell_type": "code",
   "execution_count": 71,
   "id": "8fccc02e",
   "metadata": {},
   "outputs": [
    {
     "name": "stdout",
     "output_type": "stream",
     "text": [
      "Enter the number to check if its Harshad Number: 156\n",
      "156 is Harshad Number\n"
     ]
    }
   ],
   "source": [
    "num = int(input(\"Enter the number to check if its Harshad Number: \"))\n",
    "\n",
    "## Calculate Sum Of Digits\n",
    "sod = sum(int(i) for i in str(num))\n",
    "\n",
    "if num % sod == 0:\n",
    "    print(f\"{num} is Harshad Number\")\n",
    "else:\n",
    "    print(f\"{num} is not a Harshads Numbers\")"
   ]
  },
  {
   "cell_type": "markdown",
   "id": "65250649",
   "metadata": {},
   "source": [
    "### 6. Program to print all the Pronic Numbers between 1 and 100.\n",
    "The pronic number is a product of two consecutive integers of the form: **n(n+1).**\n",
    "\n",
    "For example:\n",
    "\n",
    "$$ 6 = 2(2+1)= n(n+1) $$\n",
    "$$ 72 =8(8+1) = n(n+1) $$\n",
    "\n",
    "Some pronic numbers are: 0, 2, 6, 12, 20, 30, 42, 56 etc."
   ]
  },
  {
   "cell_type": "code",
   "execution_count": 76,
   "id": "1a10ed03",
   "metadata": {},
   "outputs": [
    {
     "name": "stdout",
     "output_type": "stream",
     "text": [
      "0\t2\t6\t12\t20\t30\t42\t56\t72\t90\t"
     ]
    }
   ],
   "source": [
    "# function to check number is pronic or not\n",
    "def isPronic(n):\n",
    "    for i in range(0, n+1):\n",
    "        if i*(i+1) == n:\n",
    "            return True\n",
    "    return False\n",
    "\n",
    "# pronic numbers between 1-100\n",
    "for i in range(101):\n",
    "    if isPronic(i):\n",
    "        print(i, end=\"\\t\")"
   ]
  },
  {
   "cell_type": "markdown",
   "id": "4a9c6bf7",
   "metadata": {},
   "source": [
    "# THANK YOU\n",
    "---"
   ]
  }
 ],
 "metadata": {
  "kernelspec": {
   "display_name": "Python 3 (ipykernel)",
   "language": "python",
   "name": "python3"
  },
  "language_info": {
   "codemirror_mode": {
    "name": "ipython",
    "version": 3
   },
   "file_extension": ".py",
   "mimetype": "text/x-python",
   "name": "python",
   "nbconvert_exporter": "python",
   "pygments_lexer": "ipython3",
   "version": "3.9.7"
  }
 },
 "nbformat": 4,
 "nbformat_minor": 5
}
