{
 "cells": [
  {
   "cell_type": "markdown",
   "metadata": {},
   "source": [
    "<h1 align=\"center\" style=\"color: skyblue\"> POWER BI </h1>\n",
    "<font color=\"green\" size=\"4\" style=\"float:right\" >Aamir Mohiuddin </font>"
   ]
  },
  {
   "cell_type": "markdown",
   "metadata": {},
   "source": [
    "### <font color=\"green\"> 1. What do you mean by BI? Explain. </font>\n",
    "---"
   ]
  },
  {
   "cell_type": "markdown",
   "metadata": {},
   "source": [
    "BI stands for **Business Intelligence**. BI uncovers insights for making strategic decisions. Business intelligence tools analyze historical and current data and present findings in intuitive visual formats.\n",
    "\n",
    "There are four key steps that business intelligence follows to transform raw data into easy-to-digest insights for everyone in the organization to use. The first three -- **data collection, analysis and visualization** -- set the stage for the final **decision-making** step. Before using BI, business had to do much of their analysis manually, but BI tools automate many of the processes and save companies time and effort.\n",
    "\n",
    "**Step 1:** Collect and transform data from multiples sources\n",
    "\n",
    "**Step 2:** Uncover trends\n",
    "\n",
    "**Step 3:** Use visualization to present findings\n",
    "\n",
    "**Step 4:** Take action on insights in real time"
   ]
  },
  {
   "cell_type": "markdown",
   "metadata": {},
   "source": [
    "### <font color=\"green\"> 2. How Power BI helps in BI, and how does it help Data Analysts? Explain. </font>\n",
    "\n",
    "---"
   ]
  },
  {
   "cell_type": "markdown",
   "metadata": {},
   "source": [
    "Microsoft Power BI is a **business intelligence (BI) and data visualization tool that helps organizations to analyze and understand data. It allows users to create interactive dashboards and reports to gain insights from their data, and share those insights with others in their organization.**\n",
    "\n",
    "With Power BI, users can connect to a wide range of data sources, including databases, spreadsheets, and cloud services. They can then use Power BI's visualizations and analytics tools to transform and analyze their data, and create reports and dashboards to share with others.\n",
    "\n",
    "Some of the key features of Power BI that support BI include:\n",
    "\n",
    "* **<U>Connectivity</U>:** Power BI can connect to a wide range of data sources, making it easy to bring data from different systems and sources together in one place.\n",
    "\n",
    "* **<U>Data transformation</U>:** Power BI includes a range of tools for transforming and cleaning data, such as pivot tables, slicers, and filters.\n",
    "\n",
    "* **<U>Visualizations</U>:** Power BI provides a range of visualizations, including charts, graphs, maps, and gauges, that help users to understand and analyze their data.\n",
    "\n",
    "* **<U>Dashboards</U>:** Power BI allows users to create interactive dashboards that display key metrics and trends, and can be shared with others in their organization.\n",
    "\n",
    "* **<U>Collaboration</U>:** Power BI includes features that make it easy for users to share reports and dashboards with others, and collaborate on data analysis and visualization projects.\n",
    "\n",
    "* **<u>Automation</u>:** Power BI can be used to automate the creation of reports and dashboards, allowing analysts to save time and focus on more important tasks.\n",
    "\n",
    " Overall, Power BI is a powerful tool that helps organizations to analyze and understand their data, and make better informed decisions based on that data."
   ]
  },
  {
   "cell_type": "markdown",
   "metadata": {},
   "source": [
    "### <font color = \"green\"> 3. What is Descriptive Analytics? </font>\n",
    "---"
   ]
  },
  {
   "cell_type": "markdown",
   "metadata": {},
   "source": [
    "Descriptive analytics is a type of analytics that involves the **summarization and interpretation of data to understand what has happened in the past. It is focused on describing and explaining events that have already occurred, rather than predicting or prescribing actions for the future.**\n",
    "\n",
    "Descriptive analytics typically involves the use of tools and techniques such as data mining, statistical analysis, and visualization to identify patterns, trends, and relationships in data. It can be used to answer questions such as **\"What happened?\", \"Why did it happen?\", and \"How did it happen?\"**\n",
    "\n",
    "Examples of applications of descriptive analytics include:\n",
    "\n",
    "Analyzing customer data to understand purchasing behavior and identify trends\n",
    "\n",
    "Analyzing sales data to understand revenue and profit trends\n",
    "\n",
    "Analyzing website data to understand user behavior and identify trends\n",
    "\n",
    "Analyzing social media data to understand sentiment and identify trends\n",
    "\n",
    "Descriptive analytics is often used as a starting point for more advanced types of analytics, such as diagnostic analytics, predictive analytics, and prescriptive analytics, which can provide deeper insights and help organizations to take more informed actions."
   ]
  },
  {
   "cell_type": "markdown",
   "metadata": {},
   "source": [
    "### <font color=\"green\"> 4. What is Predictive Analysis?</font>\n",
    "---"
   ]
  },
  {
   "cell_type": "markdown",
   "metadata": {},
   "source": [
    "Predictive analytics is a type of analytics that involves using **statistical models and machine learning techniques to analyze current and historical data to make predictions about future events. It is focused on predicting what will happen in the future, rather than simply describing what has happened in the past.**\n",
    "\n",
    "Predictive analytics can be used to identify patterns and relationships in data that are not immediately obvious, and to build models that can be used to make predictions about future outcomes. These predictions can be used to inform decision-making and strategy, and to help organizations prepare for and respond to potential future events.\n",
    "\n",
    "Examples of applications of predictive analytics include:\n",
    "\n",
    "Forecasting demand for products or services\n",
    "\n",
    "Identifying potential customer churn\n",
    "\n",
    "Predicting equipment failures\n",
    "\n",
    "Detecting fraudulent activities\n",
    "\n",
    "Predictive analytics requires a large amount of data and sophisticated statistical and machine learning techniques to be effective. It is often used in conjunction with other types of analytics, such as descriptive analytics and diagnostic analytics, to provide a more complete understanding of data and inform decision-making."
   ]
  },
  {
   "cell_type": "markdown",
   "metadata": {},
   "source": [
    "### <font color=\"green\"> 5. What is Presriptive Analytics. </font>\n",
    "---"
   ]
  },
  {
   "cell_type": "markdown",
   "metadata": {},
   "source": [
    "Prescriptive analyticsis a type of analytics that involves using **advanced techniques such as optimization, machine learning, and simulation to analyze data and provide recommendations or actions to take in order to achieve a desired outcome.**\n",
    "\n",
    "Prescriptive analytics goes beyond simply predicting what will happen in the future (predictive analytics) or describing what has happened in the past (descriptive analytics). It helps organizations to understand the best course of action to take in order to achieve a specific goal or objective.\n",
    "\n",
    "Examples of applications of prescriptive analytics include:\n",
    "\n",
    "Optimizing supply chain operations\n",
    "\n",
    "Recommending personalized products or services to customers\n",
    "\n",
    "Identifying the most efficient routes for delivery vehicles\n",
    "\n",
    "Determining the best pricing strategies for products or services\n",
    "\n",
    "Prescriptive analytics typically involves the use of complex algorithms and sophisticated modeling techniques, and requires a high level of expertise and data literacy to be effective. It is often used in conjunction with other types of analytics to provide a more comprehensive understanding of data and inform decision-making."
   ]
  },
  {
   "cell_type": "markdown",
   "metadata": {},
   "source": [
    "### <font color=\"green\"> 5. Write Five real life questions that POWER BI can solve. </font>\n",
    "---"
   ]
  },
  {
   "cell_type": "markdown",
   "metadata": {},
   "source": [
    "Here are five examples of real-life questions that Power BI can help to solve:\n",
    "\n",
    "1. **How is our company's revenue and profitability performing over time?**\n",
    "\n",
    "Power BI can be used to connect to financial data sources, such as accounting software or spreadsheets, and create visualizations and reports to track key metrics such as revenue, profits, and expenses.\n",
    "\n",
    "2. **How are our marketing efforts performing?**\n",
    "\n",
    "Power BI can be used to connect to marketing data sources, such as advertising platforms or CRM systems, and create visualizations and reports to track the performance of marketing campaigns, including metrics such as clicks, impressions, and conversions.\n",
    "\n",
    "3. **How is our customer satisfaction trending over time?**\n",
    "\n",
    "Power BI can be used to connect to customer feedback data sources, such as surveys or social media platforms, and create visualizations and reports to track customer satisfaction and identify trends or areas for improvement.\n",
    "\n",
    "4. **How are our sales and distribution channels performing?**\n",
    "\n",
    "Power BI can be used to connect to sales data sources, such as sales tracking software or spreadsheets, and create visualizations and reports to track the performance of different sales channels, including metrics such as revenue, sales volume, and customer acquisition.\n",
    "\n",
    "5. **How is our website traffic and user behavior changing over time?**\n",
    "\n",
    "Power BI can be used to connect to web analytics data sources, such as Google Analytics, and create visualizations and reports to track website traffic and user behavior, including metrics such as page views, sessions, and bounce rate.\n"
   ]
  },
  {
   "cell_type": "markdown",
   "metadata": {},
   "source": [
    "# THANK YOU"
   ]
  }
 ],
 "metadata": {
  "kernelspec": {
   "display_name": "Python 3 (ipykernel)",
   "language": "python",
   "name": "python3"
  },
  "language_info": {
   "codemirror_mode": {
    "name": "ipython",
    "version": 3
   },
   "file_extension": ".py",
   "mimetype": "text/x-python",
   "name": "python",
   "nbconvert_exporter": "python",
   "pygments_lexer": "ipython3",
   "version": "3.9.7"
  },
  "vscode": {
   "interpreter": {
    "hash": "9c956a0fead4c72a03fcd50e350ccd8f8f854be3150d190c39ee1672b6e373ee"
   }
  }
 },
 "nbformat": 4,
 "nbformat_minor": 2
}
