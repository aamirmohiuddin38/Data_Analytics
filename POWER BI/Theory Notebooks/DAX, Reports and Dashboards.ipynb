{
 "cells": [
  {
   "cell_type": "markdown",
   "metadata": {},
   "source": [
    "# <font color=\"skyblue\"> DAX | Reports | Dashboards </font>\n",
    "## <font color = \"green\" style=\"float:right\"> Aamir Mohiuddin </font>\n",
    "---"
   ]
  },
  {
   "cell_type": "markdown",
   "metadata": {},
   "source": [
    "### <font color=\"green\"> 1. Explain DAX. </font>\n",
    "---"
   ]
  },
  {
   "cell_type": "markdown",
   "metadata": {},
   "source": [
    "**DAX (Data Analysis Expression)** is a formula language used to define calculations in Power BI, Power Pivot, and in Analysis Services. It is **similar to Excel formulas**, but it has a different syntax and additional functions that are designed to work with tabular data models.\n",
    "\n",
    "DAX formulas are used to create **calculated columns and measures** in a tabular data model. **Calculated columns** *are added to a table in the data model and are populated with a DAX formula that is evaluated row by row*.**Measures** *are dynamic calculations that are created on the fly and are not stored in the data model. They are typically used to define metrics that are displayed in reports and dashboards.*\n",
    "\n",
    "DAX includes a set of functions that perform calculations on tables and columns, such as SUM, AVERAGE, and COUNT. It also includes functions that enable you to manipulate data and create more complex expressions, such as IF, SWITCH, and FILTER.\n",
    "\n",
    "DAX is a powerful tool for data modeling and analysis, and it is an essential skill for anyone who works with Power BI or Analysis Services."
   ]
  },
  {
   "cell_type": "markdown",
   "metadata": {},
   "source": [
    "### <font color=\"green\">2. Explain datasets, reports and dashboards and how they relate to each other?</font>\n",
    "---"
   ]
  },
  {
   "cell_type": "markdown",
   "metadata": {},
   "source": [
    "In the context of Power BI, a **dataset** is a collection of data that has been imported from one or more sources and is stored in the Power BI service or Power BI Desktop. A **report** is a visual display of data that is created using Power BI Desktop or the Power BI service. A **dashboard** is a single page, often called a canvas, that displays multiple visualizations, or \"tiles\", in a single view.\n",
    "\n",
    "A report can be based on a single dataset or multiple datasets, and it can include a variety of visualizations such as charts, tables, and maps. Reports are interactive and allow users to filter, slice, and drill down into the data to explore and analyze it.\n",
    "\n",
    "A dashboard is a high-level summary of key metrics and trends, and it is designed to provide a quick overview of the most important information. Dashboards are typically built using visualizations from multiple reports, and they are designed to be easily understandable at a glance.\n",
    "\n",
    "In summary, *datasets contain the raw data, reports are interactive visual displays of that data, and dashboards are high-level summaries that display key metrics and trends from multiple reports.*"
   ]
  },
  {
   "cell_type": "markdown",
   "metadata": {},
   "source": [
    "### <font color=\"green\"> 3.How reports can be created in power BI, explain two ways with Navigation of each. </font>\n",
    "---"
   ]
  },
  {
   "cell_type": "markdown",
   "metadata": {},
   "source": [
    "There are two main ways to create reports in Power BI:\n",
    "\n",
    "1. **Using Power BI Desktop:** Power BI Desktop is a free desktop application that you can use to connect to, transform, and visualize data. To create a report in Power BI Desktop, you will need to follow these steps:\n",
    "\n",
    "* Start by opening Power BI Desktop.\n",
    "* Select \"Get Data\" from the Home ribbon to connect to a data source. You can connect to a wide variety of data sources, including Excel, SQL Server, and online services such as Google Analytics.\n",
    "* Once you have connected to your data, you can use the Transform ribbon to shape and clean your data.\n",
    "* Once your data is ready, you can create visualizations by selecting fields from the Fields pane and dragging them onto the canvas. You can use the Visualizations pane to choose the type of visualization you want to create.\n",
    "* As you build your report, you can use the Page ribbon to add, delete, and rearrange pages. You can also use the Format and Home ribbons to customize the appearance and behavior of your visualizations.\n",
    "* When you are finished, you can save your report by selecting \"Save\" from the File menu.\n",
    "\n",
    "2. **Using the Power BI service:** The Power BI service is a cloud-based service that you can use to create and share reports and dashboards. To create a report in the Power BI service, you will need to follow these steps:\n",
    "\n",
    "* Start by signing in to the Power BI service at https://powerbi.com.\n",
    "* Select \"Create\" and then choose \"Report\" from the list of options.\n",
    "* Select a dataset to use as the basis for your report. If you don't have any datasets yet, you can select \"Get Data\" to connect to a data source and create a new dataset.\n",
    "* Once you have selected a dataset, you will be taken to the report editor, where you can create visualizations by dragging fields from the Fields pane onto the canvas. You can use the Visualizations pane to choose the type of visualization you want to create.\n",
    "* As you build your report, you can use the Page ribbon to add, delete, and rearrange pages. You can also use the Format and Home ribbons to customize the appearance and behavior of your visualizations.\n",
    "* When you are finished, you can save your report by selecting \"Save\" from the File menu"
   ]
  },
  {
   "cell_type": "markdown",
   "metadata": {},
   "source": [
    "### <font color=\"green\"> 4. How to connect to data in Power BI? How to use the content pack to connect to google analytics? Mention the steps. </font>\n",
    "---"
   ]
  },
  {
   "cell_type": "markdown",
   "metadata": {},
   "source": [
    "To connect to data in Power BI, you can use the \"Get Data\" feature in Power BI Desktop or the Power BI service. Here are the steps for connecting to data in Power BI Desktop:\n",
    "\n",
    "1. Open Power BI Desktop.\n",
    "2. Select \"Get Data\" from the Home ribbon.\n",
    "3. In the Get Data dialog box, select the type of data you want to connect to, such as a file, a database, or a web service.\n",
    "4. If prompted, select the specific data source you want to connect to and follow the prompts to authenticate and select the specific data you want to import.\n",
    "5. When the data has been successfully imported, it will appear in the Navigator window. You can then select \"Load\" to load the data into the data model, or you can select \"Transform Data\" to shape and clean the data before it is loaded.\n",
    "\n",
    "To use the content pack to connect to Google Analytics in the Power BI service, follow these steps:\n",
    "\n",
    "1. Sign in to the Power BI service at https://powerbi.com.\n",
    "2. Select \"Get Data\" from the Home ribbon.\n",
    "3. In the Get Data dialog box, select \"Online Services\" and then choose \"Google Analytics.\"\n",
    "4. Select \"Connect\" to authenticate with your Google account.\n",
    "5. In the Google Analytics dialog box, select the account, property, and view you want to connect to.\n",
    "6. Select \"Load\" to load the data into the data model, or you can select \"Transform Data\" to shape and clean the data before it is loaded.\n",
    "\n",
    "Once the data has been successfully imported, you can use the Fields pane to create visualizations and build reports and dashboards."
   ]
  },
  {
   "cell_type": "markdown",
   "metadata": {},
   "source": [
    "### <font color=\"green\">5. How to import Local files in Power BI? Mention the Steps. </font>\n",
    "---"
   ]
  },
  {
   "cell_type": "markdown",
   "metadata": {},
   "source": [
    "To import local files into Power BI, you can use the \"Get Data\" feature in Power BI Desktop or the Power BI service. Here are the steps for importing local files in Power BI Desktop:\n",
    "\n",
    "1. Open Power BI Desktop.\n",
    "2. Select \"Get Data\" from the Home ribbon.\n",
    "3. In the Get Data dialog box, select the type of file you want to import, such as Excel, CSV, or text.\n",
    "4. Navigate to the location of the file on your local drive and select it.\n",
    "5. If prompted, select the specific data you want to import and follow the prompts to configure any additional options.\n",
    "6. When the data has been successfully imported, it will appear in the Navigator window. You can then select \"Load\" to load the data into the data model, or you can select \"Transform Data\" to shape and clean the data before it is loaded.\n",
    "\n",
    "To import local files in the Power BI service, follow these steps:\n",
    "\n",
    "1. Sign in to the Power BI service at https://powerbi.com.\n",
    "2. Select \"Get Data\" from the Home ribbon.\n",
    "3. In the Get Data dialog box, select \"Files\" and then choose the type of file you want to import, such as Excel, CSV, or text.\n",
    "4. Select \"Local File\" and then navigate to the location of the file on your local drive and select it.\n",
    "5. If prompted, select the specific data you want to import and follow the prompts to configure any additional options.\n",
    "6. When the data has been successfully imported, it will appear in the Fields pane, and you can use it to create visualizations and build reports and dashboards."
   ]
  },
  {
   "cell_type": "markdown",
   "metadata": {},
   "source": [
    "### <font color=\"green\"> 6. In Power BI visualization, what are Reading View and Editing view? </font>\n",
    "---"
   ]
  },
  {
   "cell_type": "markdown",
   "metadata": {},
   "source": [
    "In Power BI, **the Reading View** *is a mode that is used to view and interact with reports and dashboards. When you open a report or dashboard in Reading View, you can use filters, slicers, and other interactive elements to explore and analyze the data. You can also use the Reading View toolbar to access features such as print, export, and share.*\n",
    "\n",
    "**The Editing View,** on the other hand, *is a mode that is used to create and modify reports and dashboards. When you open a report or dashboard in Editing View, you have access to the full set of tools and features that are used to design and build visualizations. This includes the Fields pane, the Visualizations pane, and the formatting and layout options on the ribbon.*\n",
    "\n",
    "In short, the Reading View is used to view and interact with reports and dashboards, while the Editing View is used to create and modify them."
   ]
  },
  {
   "cell_type": "markdown",
   "metadata": {},
   "source": [
    "# THANK YOU\n",
    "---"
   ]
  }
 ],
 "metadata": {
  "kernelspec": {
   "display_name": "Python 3 (ipykernel)",
   "language": "python",
   "name": "python3"
  },
  "language_info": {
   "codemirror_mode": {
    "name": "ipython",
    "version": 3
   },
   "file_extension": ".py",
   "mimetype": "text/x-python",
   "name": "python",
   "nbconvert_exporter": "python",
   "pygments_lexer": "ipython3",
   "version": "3.9.7"
  }
 },
 "nbformat": 4,
 "nbformat_minor": 2
}
